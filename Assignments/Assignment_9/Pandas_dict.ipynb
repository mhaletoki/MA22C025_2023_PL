{
  "nbformat": 4,
  "nbformat_minor": 0,
  "metadata": {
    "colab": {
      "provenance": [],
      "authorship_tag": "ABX9TyOjnSyIC2nqVSo3v2sC36Xn",
      "include_colab_link": true
    },
    "kernelspec": {
      "name": "python3",
      "display_name": "Python 3"
    },
    "language_info": {
      "name": "python"
    }
  },
  "cells": [
    {
      "cell_type": "markdown",
      "metadata": {
        "id": "view-in-github",
        "colab_type": "text"
      },
      "source": [
        "<a href=\"https://colab.research.google.com/github/mhaletoki/MA22C025_2023_PL/blob/main/Assignments/Assignment_9/Pandas_dict.ipynb\" target=\"_parent\"><img src=\"https://colab.research.google.com/assets/colab-badge.svg\" alt=\"Open In Colab\"/></a>"
      ]
    },
    {
      "cell_type": "code",
      "execution_count": null,
      "metadata": {
        "id": "gcgPxfpuXZr8"
      },
      "outputs": [],
      "source": [
        "import pandas as pd"
      ]
    },
    {
      "cell_type": "markdown",
      "source": [
        "**Convert d0 to a corresponding pandas object pd0.**"
      ],
      "metadata": {
        "id": "BKTDUWHSARD0"
      }
    },
    {
      "cell_type": "code",
      "source": [
        "d0 = {2:'a', 1:'b', 3:'c'}\n",
        "pd0 = pd.Series(d0)\n",
        "print(pd0)\n"
      ],
      "metadata": {
        "colab": {
          "base_uri": "https://localhost:8080/"
        },
        "id": "3eeSaWbzYMMQ",
        "outputId": "b837521f-498c-47f1-f96b-bb35df638e56"
      },
      "execution_count": null,
      "outputs": [
        {
          "output_type": "stream",
          "name": "stdout",
          "text": [
            "2    a\n",
            "1    b\n",
            "3    c\n",
            "dtype: object\n"
          ]
        }
      ]
    },
    {
      "cell_type": "markdown",
      "source": [
        "**Sort indices of pd0.**"
      ],
      "metadata": {
        "id": "UTUbmwdrAaR2"
      }
    },
    {
      "cell_type": "code",
      "source": [
        "pd0 = pd0.sort_index()\n"
      ],
      "metadata": {
        "id": "ziW4yPa0YoHH"
      },
      "execution_count": null,
      "outputs": []
    },
    {
      "cell_type": "markdown",
      "source": [
        "**Convert d1 and d2 (together) to a pandas object dd**"
      ],
      "metadata": {
        "id": "SLwRBS0bAjJj"
      }
    },
    {
      "cell_type": "code",
      "source": [
        "d1 = {'a': 1, 'b': 2}\n",
        "d2 = {'b': 3, 'c': 4}\n",
        "dd = pd.DataFrame({'d1': d1, 'd2': d2})\n",
        "print(dd)"
      ],
      "metadata": {
        "colab": {
          "base_uri": "https://localhost:8080/"
        },
        "id": "8B37IthiYw_k",
        "outputId": "3d8533c5-a804-4f35-bd61-6a67c16933f9"
      },
      "execution_count": null,
      "outputs": [
        {
          "output_type": "stream",
          "name": "stdout",
          "text": [
            "    d1   d2\n",
            "a  1.0  NaN\n",
            "b  2.0  3.0\n",
            "c  NaN  4.0\n"
          ]
        }
      ]
    },
    {
      "cell_type": "markdown",
      "source": [
        "**indexing and slicing on dd.**"
      ],
      "metadata": {
        "id": "v1N4lkjYA1WO"
      }
    },
    {
      "cell_type": "code",
      "source": [
        "column_d1 = dd['d1'] #Access the 'd1' column\n",
        "\n",
        "column_d2 = dd['d2'] #Access the 'd2' column\n",
        "print(column_d1)\n",
        "print(column_d2)"
      ],
      "metadata": {
        "colab": {
          "base_uri": "https://localhost:8080/"
        },
        "id": "BHU6u_BrY8K1",
        "outputId": "0fd91c00-9bf7-4d8b-ba5d-b2394914322d"
      },
      "execution_count": null,
      "outputs": [
        {
          "output_type": "stream",
          "name": "stdout",
          "text": [
            "a    1.0\n",
            "b    2.0\n",
            "c    NaN\n",
            "Name: d1, dtype: float64\n",
            "a    NaN\n",
            "b    3.0\n",
            "c    4.0\n",
            "Name: d2, dtype: float64\n"
          ]
        }
      ]
    },
    {
      "cell_type": "code",
      "source": [
        "sliced_rows = dd[0:2] # Slice the first two rows\n",
        "print(sliced_rows)"
      ],
      "metadata": {
        "colab": {
          "base_uri": "https://localhost:8080/"
        },
        "id": "KEuM0RYrZVDK",
        "outputId": "048bd35b-fc19-4902-8d55-631a264fd493"
      },
      "execution_count": null,
      "outputs": [
        {
          "output_type": "stream",
          "name": "stdout",
          "text": [
            "    d1   d2\n",
            "a  1.0  NaN\n",
            "b  2.0  3.0\n"
          ]
        }
      ]
    },
    {
      "cell_type": "markdown",
      "source": [
        "**implicit and explicit indexing on dd**"
      ],
      "metadata": {
        "id": "pKmnzvHxA-9F"
      }
    },
    {
      "cell_type": "code",
      "source": [
        "first_row = dd.iloc[0]\n",
        "\n",
        "value = dd.loc['a', 'd1'] # Access the first row and 'd1' column value\n",
        "print(first_row)\n",
        "print(value)\n"
      ],
      "metadata": {
        "colab": {
          "base_uri": "https://localhost:8080/"
        },
        "id": "poTPqk9QZa04",
        "outputId": "e7fcf41e-5cec-42e9-8a9e-97c98757de0e"
      },
      "execution_count": null,
      "outputs": [
        {
          "output_type": "stream",
          "name": "stdout",
          "text": [
            "d1    1.0\n",
            "d2    NaN\n",
            "Name: a, dtype: float64\n",
            "1.0\n"
          ]
        }
      ]
    },
    {
      "cell_type": "code",
      "source": [
        "row_a = dd.loc['a'] # Access the row with index 'a' using loc\n",
        "\n",
        "value_b_d2 = dd.loc['b', 'd2'] # Access the value of 'b' in the 'd2' column\n"
      ],
      "metadata": {
        "id": "9rMXbmuu78ky"
      },
      "execution_count": null,
      "outputs": []
    },
    {
      "cell_type": "markdown",
      "source": [
        "**Forward fill and backfill missing values using various axes.**"
      ],
      "metadata": {
        "id": "VC5rklp_BGMY"
      }
    },
    {
      "cell_type": "code",
      "source": [
        "\n",
        "forward_filled_dd = dd.fillna(method='ffill')\n",
        "\n",
        "back_filled_dd = dd.fillna(method='bfill')\n",
        "\n",
        "\n",
        "forward_filled_axis_0 = dd.fillna(method='ffill', axis=0) # forward filling should be performed along the columns\n",
        "\n",
        "back_filled_axis_1 = dd.fillna(method='bfill', axis=1)# backward filling should be performed along the rows\n"
      ],
      "metadata": {
        "id": "9YEIhVfA8Dlq"
      },
      "execution_count": null,
      "outputs": []
    }
  ]
}