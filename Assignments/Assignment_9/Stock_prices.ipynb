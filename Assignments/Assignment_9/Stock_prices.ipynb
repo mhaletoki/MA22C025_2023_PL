{
  "nbformat": 4,
  "nbformat_minor": 0,
  "metadata": {
    "colab": {
      "provenance": [],
      "authorship_tag": "ABX9TyNmiCIc0QnckorWb06DWT0/",
      "include_colab_link": true
    },
    "kernelspec": {
      "name": "python3",
      "display_name": "Python 3"
    },
    "language_info": {
      "name": "python"
    }
  },
  "cells": [
    {
      "cell_type": "markdown",
      "metadata": {
        "id": "view-in-github",
        "colab_type": "text"
      },
      "source": [
        "<a href=\"https://colab.research.google.com/github/mhaletoki/MA22C025_2023_PL/blob/main/Assignments/Assignment_9/Stock_prices.ipynb\" target=\"_parent\"><img src=\"https://colab.research.google.com/assets/colab-badge.svg\" alt=\"Open In Colab\"/></a>"
      ]
    },
    {
      "cell_type": "code",
      "execution_count": null,
      "metadata": {
        "id": "QLlgvSIz1SU0"
      },
      "outputs": [],
      "source": [
        "import pandas as pd\n",
        "%matplotlib inline"
      ]
    },
    {
      "cell_type": "code",
      "source": [
        "!pip install yfinance"
      ],
      "metadata": {
        "colab": {
          "base_uri": "https://localhost:8080/"
        },
        "id": "wq0P063R_M-8",
        "outputId": "6d055ba3-bbc3-4557-998d-0d6850467a26"
      },
      "execution_count": null,
      "outputs": [
        {
          "output_type": "stream",
          "name": "stdout",
          "text": [
            "Requirement already satisfied: yfinance in /usr/local/lib/python3.10/dist-packages (0.2.31)\n",
            "Requirement already satisfied: pandas>=1.3.0 in /usr/local/lib/python3.10/dist-packages (from yfinance) (1.5.3)\n",
            "Requirement already satisfied: numpy>=1.16.5 in /usr/local/lib/python3.10/dist-packages (from yfinance) (1.23.5)\n",
            "Requirement already satisfied: requests>=2.31 in /usr/local/lib/python3.10/dist-packages (from yfinance) (2.31.0)\n",
            "Requirement already satisfied: multitasking>=0.0.7 in /usr/local/lib/python3.10/dist-packages (from yfinance) (0.0.11)\n",
            "Requirement already satisfied: lxml>=4.9.1 in /usr/local/lib/python3.10/dist-packages (from yfinance) (4.9.3)\n",
            "Requirement already satisfied: appdirs>=1.4.4 in /usr/local/lib/python3.10/dist-packages (from yfinance) (1.4.4)\n",
            "Requirement already satisfied: pytz>=2022.5 in /usr/local/lib/python3.10/dist-packages (from yfinance) (2023.3.post1)\n",
            "Requirement already satisfied: frozendict>=2.3.4 in /usr/local/lib/python3.10/dist-packages (from yfinance) (2.3.8)\n",
            "Requirement already satisfied: peewee>=3.16.2 in /usr/local/lib/python3.10/dist-packages (from yfinance) (3.16.3)\n",
            "Requirement already satisfied: beautifulsoup4>=4.11.1 in /usr/local/lib/python3.10/dist-packages (from yfinance) (4.11.2)\n",
            "Requirement already satisfied: html5lib>=1.1 in /usr/local/lib/python3.10/dist-packages (from yfinance) (1.1)\n",
            "Requirement already satisfied: soupsieve>1.2 in /usr/local/lib/python3.10/dist-packages (from beautifulsoup4>=4.11.1->yfinance) (2.5)\n",
            "Requirement already satisfied: six>=1.9 in /usr/local/lib/python3.10/dist-packages (from html5lib>=1.1->yfinance) (1.16.0)\n",
            "Requirement already satisfied: webencodings in /usr/local/lib/python3.10/dist-packages (from html5lib>=1.1->yfinance) (0.5.1)\n",
            "Requirement already satisfied: python-dateutil>=2.8.1 in /usr/local/lib/python3.10/dist-packages (from pandas>=1.3.0->yfinance) (2.8.2)\n",
            "Requirement already satisfied: charset-normalizer<4,>=2 in /usr/local/lib/python3.10/dist-packages (from requests>=2.31->yfinance) (3.3.0)\n",
            "Requirement already satisfied: idna<4,>=2.5 in /usr/local/lib/python3.10/dist-packages (from requests>=2.31->yfinance) (3.4)\n",
            "Requirement already satisfied: urllib3<3,>=1.21.1 in /usr/local/lib/python3.10/dist-packages (from requests>=2.31->yfinance) (2.0.6)\n",
            "Requirement already satisfied: certifi>=2017.4.17 in /usr/local/lib/python3.10/dist-packages (from requests>=2.31->yfinance) (2023.7.22)\n"
          ]
        }
      ]
    },
    {
      "cell_type": "markdown",
      "source": [
        "**Check if a multiindex has been used**"
      ],
      "metadata": {
        "id": "cSjhinGaES_K"
      }
    },
    {
      "cell_type": "code",
      "source": [
        "check_multiindex = isinstance(s.index, pd.MultiIndex)\n",
        "print(\"Is MultiIndex being used in this data?\", check_multiindex)"
      ],
      "metadata": {
        "colab": {
          "base_uri": "https://localhost:8080/"
        },
        "id": "eN_KfaUmAbXB",
        "outputId": "ef754bcd-a920-4a9f-c9e4-b6d4567e99f7"
      },
      "execution_count": null,
      "outputs": [
        {
          "output_type": "stream",
          "name": "stdout",
          "text": [
            "Is MultiIndex being used in this data? False\n"
          ]
        }
      ]
    },
    {
      "cell_type": "code",
      "source": [
        "import yfinance as yf\n",
        "\n",
        "symbols = ['AAPL', 'GOOG', 'TSLA']\n",
        "s = yf.download(symbols, start='2023-01-01')"
      ],
      "metadata": {
        "id": "zM_VM4xg61NZ",
        "colab": {
          "base_uri": "https://localhost:8080/"
        },
        "outputId": "fdd9e4ba-8b01-4d17-a578-0d8564cd0823"
      },
      "execution_count": null,
      "outputs": [
        {
          "output_type": "stream",
          "name": "stdout",
          "text": [
            "[*********************100%%**********************]  3 of 3 completed\n"
          ]
        }
      ]
    },
    {
      "cell_type": "markdown",
      "source": [
        "**Access and plot the closing price of AAPL on all days in the data**"
      ],
      "metadata": {
        "id": "pKKXhWL8Ex0j"
      }
    },
    {
      "cell_type": "code",
      "source": [
        "import matplotlib.pyplot as plt\n",
        "\n",
        "aapl_closing = s['Adj Close']['AAPL']\n",
        "aapl_closing.plot(title='AAPL Closing Prices')\n",
        "plt.xlabel('Date')\n",
        "plt.ylabel('Closing Price')\n",
        "plt.show()\n"
      ],
      "metadata": {
        "colab": {
          "base_uri": "https://localhost:8080/",
          "height": 455
        },
        "id": "DoYVMQ1w_MMm",
        "outputId": "0bdd3d67-fb98-4086-a332-cc5cf4be2cbf"
      },
      "execution_count": null,
      "outputs": [
        {
          "output_type": "display_data",
          "data": {
            "text/plain": [
              "<Figure size 640x480 with 1 Axes>"
            ],
            "image/png": "[encoded data removed]"
          },
          "metadata": {}
        }
      ]
    },
    {
      "cell_type": "markdown",
      "source": [
        " ** Print the closing price of all three stocks yesterday. **"
      ],
      "metadata": {
        "id": "hpfye6y1FD7M"
      }
    },
    {
      "cell_type": "code",
      "source": [
        "from datetime import datetime, timedelta\n",
        "\n",
        "yesterday = datetime.now() - timedelta(days=1)\n",
        "yesterday_str = yesterday.strftime('%Y-%m-%d')\n",
        "print(\"Yesterday's date as per this assignement is\",yesterday_str)\n",
        "\n",
        "yesterday_prices = s['Adj Close'].iloc[-1]\n",
        "print(\"Closing Prices of All Three Stocks Yesterday:\")\n",
        "print(yesterday_prices)"
      ],
      "metadata": {
        "colab": {
          "base_uri": "https://localhost:8080/"
        },
        "id": "SRWwWidTBOso",
        "outputId": "030e8601-103f-46b4-b127-2b9dd7f4a940"
      },
      "execution_count": null,
      "outputs": [
        {
          "output_type": "stream",
          "name": "stdout",
          "text": [
            "Yesterday's date as per this assignement is 2023-10-14\n",
            "Closing Prices of All Three Stocks Yesterday:\n",
            "AAPL    178.850006\n",
            "GOOG    138.580002\n",
            "TSLA    251.119995\n",
            "Name: 2023-10-13 00:00:00, dtype: float64\n"
          ]
        }
      ]
    },
    {
      "cell_type": "markdown",
      "source": [
        "** Extract a smaller data frame with no MultiIndex containing only TSLA data**"
      ],
      "metadata": {
        "id": "SKYxbCMpFQaK"
      }
    },
    {
      "cell_type": "code",
      "source": [
        "tsla_data_no_multiindex = s['Adj Close']['TSLA'].reset_index()\n",
        "print(\"\\nDataFrame with TSLA data (No MultiIndex):\")\n",
        "print(tsla_data_no_multiindex)\n"
      ],
      "metadata": {
        "colab": {
          "base_uri": "https://localhost:8080/"
        },
        "id": "4SmJ7J8iCpX0",
        "outputId": "dfd9787c-fb6e-492d-f533-1d9c3dfb4069"
      },
      "execution_count": null,
      "outputs": [
        {
          "output_type": "stream",
          "name": "stdout",
          "text": [
            "\n",
            "DataFrame with TSLA data (No MultiIndex):\n",
            "          Date        TSLA\n",
            "0   2023-01-03  108.099998\n",
            "1   2023-01-04  113.639999\n",
            "2   2023-01-05  110.339996\n",
            "3   2023-01-06  113.059998\n",
            "4   2023-01-09  119.769997\n",
            "..         ...         ...\n",
            "192 2023-10-09  259.670013\n",
            "193 2023-10-10  263.619995\n",
            "194 2023-10-11  262.989990\n",
            "195 2023-10-12  258.869995\n",
            "196 2023-10-13  251.119995\n",
            "\n",
            "[197 rows x 2 columns]\n"
          ]
        }
      ]
    },
    {
      "cell_type": "code",
      "source": [],
      "metadata": {
        "id": "OTFTMdb-GikI"
      },
      "execution_count": null,
      "outputs": []
    }
  ]
}