{
  "nbformat": 4,
  "nbformat_minor": 0,
  "metadata": {
    "colab": {
      "provenance": [],
      "authorship_tag": "ABX9TyOLo7wDqnzC1YEbXEE9M2TA",
      "include_colab_link": true
    },
    "kernelspec": {
      "name": "python3",
      "display_name": "Python 3"
    },
    "language_info": {
      "name": "python"
    }
  },
  "cells": [
    {
      "cell_type": "markdown",
      "metadata": {
        "id": "view-in-github",
        "colab_type": "text"
      },
      "source": [
        "<a href=\"https://colab.research.google.com/github/mhaletoki/MA22C025_2023_PL/blob/main/Assignments/Assignment_6/pairwise_differences.ipynb\" target=\"_parent\"><img src=\"https://colab.research.google.com/assets/colab-badge.svg\" alt=\"Open In Colab\"/></a>"
      ]
    },
    {
      "cell_type": "code",
      "execution_count": null,
      "metadata": {
        "colab": {
          "base_uri": "https://localhost:8080/"
        },
        "id": "_JQm8GtV5EdM",
        "outputId": "893b037f-97f1-44a1-f142-3417358e34a9"
      },
      "outputs": [
        {
          "output_type": "stream",
          "name": "stdout",
          "text": [
            "[0.84985192 0.35110388 0.58649204 0.25635226 0.07495677]\n"
          ]
        }
      ],
      "source": [
        "import numpy as np\n",
        "x = np.random.rand(5) #generate five random numbers\n",
        "print(x)\n"
      ]
    },
    {
      "cell_type": "code",
      "source": [
        "D = np.subtract.outer(x, x) #calculates the pairwise differences between elements of the array\n",
        "\n",
        "print(D)\n"
      ],
      "metadata": {
        "colab": {
          "base_uri": "https://localhost:8080/"
        },
        "id": "vDVJ9rpx57qc",
        "outputId": "02d76838-0f9c-4a5b-ba06-68b9a3e285eb"
      },
      "execution_count": null,
      "outputs": [
        {
          "output_type": "stream",
          "name": "stdout",
          "text": [
            "[[ 0.          0.49874804  0.26335988  0.59349966  0.77489515]\n",
            " [-0.49874804  0.         -0.23538816  0.09475162  0.27614711]\n",
            " [-0.26335988  0.23538816  0.          0.33013978  0.51153527]\n",
            " [-0.59349966 -0.09475162 -0.33013978  0.          0.18139549]\n",
            " [-0.77489515 -0.27614711 -0.51153527 -0.18139549  0.        ]]\n"
          ]
        }
      ]
    },
    {
      "cell_type": "code",
      "source": [],
      "metadata": {
        "id": "eMtLoLflDHP-"
      },
      "execution_count": null,
      "outputs": []
    }
  ]
}