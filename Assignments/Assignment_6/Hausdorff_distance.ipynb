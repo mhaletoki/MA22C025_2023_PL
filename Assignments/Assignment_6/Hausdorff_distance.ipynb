{
  "nbformat": 4,
  "nbformat_minor": 0,
  "metadata": {
    "colab": {
      "provenance": [],
      "authorship_tag": "ABX9TyMI8eYxKbyrzh/NF6XSupX7",
      "include_colab_link": true
    },
    "kernelspec": {
      "name": "python3",
      "display_name": "Python 3"
    },
    "language_info": {
      "name": "python"
    }
  },
  "cells": [
    {
      "cell_type": "markdown",
      "metadata": {
        "id": "view-in-github",
        "colab_type": "text"
      },
      "source": [
        "<a href=\"https://colab.research.google.com/github/mhaletoki/MA22C025_2023_PL/blob/main/Assignments/Assignment_6/Hausdorff_distance.ipynb\" target=\"_parent\"><img src=\"https://colab.research.google.com/assets/colab-badge.svg\" alt=\"Open In Colab\"/></a>"
      ]
    },
    {
      "cell_type": "code",
      "execution_count": null,
      "metadata": {
        "id": "fV0kNdx46rRG"
      },
      "outputs": [],
      "source": [
        "import numpy as np\n",
        "\n"
      ]
    },
    {
      "cell_type": "code",
      "source": [
        "def norm_distance(x1,x2):\n",
        "  return np.linalg.norm(x1-x2)\n",
        "\n"
      ],
      "metadata": {
        "id": "qP4QswAn8RVR"
      },
      "execution_count": null,
      "outputs": []
    },
    {
      "cell_type": "code",
      "source": [
        "def hausdorff_distance(P, Q):\n",
        "    h_PQ= np.max([np.min([norm_distance(p, q) for q in Q]) for p in P])\n",
        "    h_QP = np.max([np.min([norm_distance(q, p) for p in P]) for q in Q])\n",
        "    return max(h_PQ, h_QP)"
      ],
      "metadata": {
        "id": "sfI5Bx3g8XG6"
      },
      "execution_count": null,
      "outputs": []
    },
    {
      "cell_type": "code",
      "source": [
        "P = np.random.rand(5, 2)\n",
        "Q = np.random.rand(7, 2)"
      ],
      "metadata": {
        "id": "Kgreo-tn_tT_"
      },
      "execution_count": null,
      "outputs": []
    },
    {
      "cell_type": "code",
      "source": [
        "print(P)\n",
        "print(Q)"
      ],
      "metadata": {
        "colab": {
          "base_uri": "https://localhost:8080/"
        },
        "id": "-2-elvWQ_8VT",
        "outputId": "d93c8a84-e281-473a-f80e-af3117ea33df"
      },
      "execution_count": null,
      "outputs": [
        {
          "output_type": "stream",
          "name": "stdout",
          "text": [
            "[[0.63072599 0.50174579]\n",
            " [0.76723955 0.50241349]\n",
            " [0.91651912 0.40953438]\n",
            " [0.30261388 0.73374029]\n",
            " [0.90967272 0.30196839]]\n",
            "[[0.37387817 0.9758409 ]\n",
            " [0.36959494 0.08472719]\n",
            " [0.01762218 0.57561031]\n",
            " [0.17935081 0.17035758]\n",
            " [0.30456765 0.53035956]\n",
            " [0.67803307 0.83283919]\n",
            " [0.49784475 0.84593407]]\n"
          ]
        }
      ]
    },
    {
      "cell_type": "code",
      "source": [
        "HAUSDORFF_DISTANCE=hausdorff_distance(P, Q)"
      ],
      "metadata": {
        "id": "dA29iN6UAAEp"
      },
      "execution_count": null,
      "outputs": []
    },
    {
      "cell_type": "code",
      "source": [
        "print(\"the required Hausdorff distance between P and Q is\",HAUSDORFF_DISTANCE)"
      ],
      "metadata": {
        "colab": {
          "base_uri": "https://localhost:8080/"
        },
        "id": "eZmJ2ZvQATy8",
        "outputId": "8fe38559-aae8-495b-846f-249c6e46b869"
      },
      "execution_count": null,
      "outputs": [
        {
          "output_type": "stream",
          "name": "stdout",
          "text": [
            "the required Hausdorff distance between P and Q is 0.5792069895344056\n"
          ]
        }
      ]
    },
    {
      "cell_type": "code",
      "source": [],
      "metadata": {
        "id": "lHY6M3qcAiBM"
      },
      "execution_count": null,
      "outputs": []
    }
  ]
}