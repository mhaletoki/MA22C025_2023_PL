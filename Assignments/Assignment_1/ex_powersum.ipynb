{
  "nbformat": 4,
  "nbformat_minor": 0,
  "metadata": {
    "colab": {
      "provenance": []
    },
    "kernelspec": {
      "name": "python3",
      "display_name": "Python 3"
    },
    "language_info": {
      "name": "python"
    }
  },
  "cells": [
    {
      "cell_type": "code",
      "execution_count": null,
      "metadata": {
        "colab": {
          "base_uri": "https://localhost:8080/"
        },
        "id": "pWU5STV2Uiwe",
        "outputId": "f664f3c8-ce6d-4c20-f4cf-e922d4b8ad4c"
      },
      "outputs": [
        {
          "output_type": "stream",
          "name": "stdout",
          "text": [
            "enter your i value2\n",
            "enter your N value3\n",
            "the required sum is 14\n"
          ]
        }
      ],
      "source": [
        "#Exercise1: Sum up integer powers\n",
        "def power_sumint(N,i):\n",
        "  sum=0\n",
        "  for n in range(1,N+1):\n",
        "    sum+=(n**i)\n",
        "  return sum\n",
        "\n",
        "i=int(input(\"enter your i value\"))\n",
        "N=int(input(\"enter your N value\"))\n",
        "sum=power_sumint(N,i)\n",
        "print(\"the required sum is\",sum)\n"
      ]
    }
  ]
}