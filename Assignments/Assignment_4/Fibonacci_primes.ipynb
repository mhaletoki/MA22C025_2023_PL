{
  "cells": [
    {
      "cell_type": "markdown",
      "metadata": {
        "id": "view-in-github",
        "colab_type": "text"
      },
      "source": [
        "<a href=\"https://colab.research.google.com/github/mhaletoki/MA22C025_2023_PL/blob/main/Assignments/Assignment_4/Fibonacci_primes.ipynb\" target=\"_parent\"><img src=\"https://colab.research.google.com/assets/colab-badge.svg\" alt=\"Open In Colab\"/></a>"
      ]
    },
    {
      "cell_type": "code",
      "execution_count": null,
      "metadata": {
        "id": "SmxomqIF30uT"
      },
      "outputs": [],
      "source": [
        "i=2; N=10\n",
        "L = [n**i for n in range(1, N)] # [ ] is for list"
      ]
    },
    {
      "cell_type": "code",
      "source": [],
      "metadata": {
        "id": "l8aRYBn3TOf6"
      },
      "execution_count": null,
      "outputs": []
    },
    {
      "cell_type": "code",
      "execution_count": null,
      "metadata": {
        "id": "PIIejvDb4Myf"
      },
      "outputs": [],
      "source": [
        "G = (n**i for n in range(1, N)) # generator expresion"
      ]
    },
    {
      "cell_type": "code",
      "execution_count": null,
      "metadata": {
        "colab": {
          "base_uri": "https://localhost:8080/"
        },
        "id": "iLgDwG104WWe",
        "outputId": "17613c4f-a4a9-45d5-b32c-3833b0168754"
      },
      "outputs": [
        {
          "output_type": "execute_result",
          "data": {
            "text/plain": [
              "[1, 4, 9, 16, 25, 36, 49, 64, 81]"
            ]
          },
          "metadata": {},
          "execution_count": 42
        }
      ],
      "source": [
        "[l for l in L ]"
      ]
    },
    {
      "cell_type": "code",
      "execution_count": null,
      "metadata": {
        "colab": {
          "base_uri": "https://localhost:8080/"
        },
        "id": "ya2RvGfdA8sE",
        "outputId": "ce40ece2-9502-4f69-a313-e8cb2210f05b"
      },
      "outputs": [
        {
          "output_type": "stream",
          "name": "stdout",
          "text": [
            "[1, 4, 9, 16, 25]\n"
          ]
        }
      ],
      "source": [
        "L = [1, 2, 3, 4, 5]\n",
        "squared_list = [x**2 for x in L]\n",
        "print(squared_list)\n"
      ]
    },
    {
      "cell_type": "code",
      "execution_count": null,
      "metadata": {
        "colab": {
          "base_uri": "https://localhost:8080/"
        },
        "id": "cmT7U09BEiRZ",
        "outputId": "497ff83b-7886-461b-b5a2-4a64446cb749"
      },
      "outputs": [
        {
          "output_type": "execute_result",
          "data": {
            "text/plain": [
              "[1, 4, 9, 16, 25, 36, 49, 64, 81]"
            ]
          },
          "metadata": {},
          "execution_count": 44
        }
      ],
      "source": [
        "[g for g in G]"
      ]
    },
    {
      "cell_type": "code",
      "execution_count": null,
      "metadata": {
        "colab": {
          "base_uri": "https://localhost:8080/"
        },
        "id": "dDT-zIf4Eyo4",
        "outputId": "6b9f6f3b-5b8e-45b3-a7ca-8b83880ab9e1"
      },
      "outputs": [
        {
          "output_type": "execute_result",
          "data": {
            "text/plain": [
              "[]"
            ]
          },
          "metadata": {},
          "execution_count": 45
        }
      ],
      "source": [
        "\n",
        "[g for g in G]"
      ]
    },
    {
      "cell_type": "code",
      "execution_count": null,
      "metadata": {
        "id": "gYNHGWiNE-_y"
      },
      "outputs": [],
      "source": [
        "def GG():\n",
        "  for n in range(1, N):\n",
        "   yield n**i\n"
      ]
    },
    {
      "cell_type": "code",
      "execution_count": null,
      "metadata": {
        "colab": {
          "base_uri": "https://localhost:8080/"
        },
        "id": "1UsD6NpJFP-V",
        "outputId": "3ba35aa2-257d-49f9-f1c3-c76672388119"
      },
      "outputs": [
        {
          "output_type": "stream",
          "name": "stdout",
          "text": [
            "1 4 9 16 25 36 49 64 81\n"
          ]
        }
      ],
      "source": [
        "G2 = GG()\n",
        "print(*G2) # see that you get the same values as before"
      ]
    },
    {
      "cell_type": "code",
      "execution_count": null,
      "metadata": {
        "colab": {
          "base_uri": "https://localhost:8080/"
        },
        "id": "UIzcZDmsHPgG",
        "outputId": "02a19d88-157e-4b07-adbc-d8ab2b9bd5a0"
      },
      "outputs": [
        {
          "output_type": "stream",
          "name": "stdout",
          "text": [
            "1 2 3 4 5\n"
          ]
        }
      ],
      "source": [
        "G2 = [1, 2, 3, 4, 5]\n",
        "print(*G2)\n"
      ]
    },
    {
      "cell_type": "code",
      "execution_count": null,
      "metadata": {
        "colab": {
          "base_uri": "https://localhost:8080/"
        },
        "id": "BPlTFFLGGJL3",
        "outputId": "53115aa0-d89f-4f94-ffa2-923b212a1d3a"
      },
      "outputs": [
        {
          "output_type": "execute_result",
          "data": {
            "text/plain": [
              "(1, 4, 9)"
            ]
          },
          "metadata": {},
          "execution_count": 49
        }
      ],
      "source": [
        "G2 = GG()\n",
        "# get the first 3 values of the sequence using next:\n",
        "next(G2), next(G2), next(G2)"
      ]
    },
    {
      "cell_type": "code",
      "execution_count": null,
      "metadata": {
        "colab": {
          "base_uri": "https://localhost:8080/"
        },
        "id": "5BnXs3ppGZWt",
        "outputId": "94ddcfc4-41c8-4556-987f-a427abcc190e"
      },
      "outputs": [
        {
          "output_type": "stream",
          "name": "stdout",
          "text": [
            "16 25 36 49 64 81\n"
          ]
        }
      ],
      "source": [
        "print(*G2) # print the remaining values of the sequence"
      ]
    },
    {
      "cell_type": "code",
      "execution_count": null,
      "metadata": {
        "id": "Ey4TmxHTHdRz"
      },
      "outputs": [],
      "source": [
        "i = -20\n",
        "N = 10**8\n"
      ]
    },
    {
      "cell_type": "code",
      "execution_count": null,
      "metadata": {
        "colab": {
          "base_uri": "https://localhost:8080/"
        },
        "id": "OT16p7aVJDIb",
        "outputId": "ce34f758-684d-4288-99ad-20d101a83d66"
      },
      "outputs": [
        {
          "output_type": "stream",
          "name": "stdout",
          "text": [
            "Requirement already satisfied: memory-profiler in /usr/local/lib/python3.10/dist-packages (0.61.0)\n",
            "Requirement already satisfied: psutil in /usr/local/lib/python3.10/dist-packages (from memory-profiler) (5.9.5)\n"
          ]
        }
      ],
      "source": [
        "!pip install memory-profiler\n"
      ]
    },
    {
      "cell_type": "code",
      "execution_count": null,
      "metadata": {
        "id": "NYu0l5KuHsS9",
        "colab": {
          "base_uri": "https://localhost:8080/"
        },
        "outputId": "9e00381f-ea46-4f0a-ae19-1ffdc559cd2b"
      },
      "outputs": [
        {
          "output_type": "stream",
          "name": "stdout",
          "text": [
            "The memory_profiler extension is already loaded. To reload it, use:\n",
            "  %reload_ext memory_profiler\n"
          ]
        }
      ],
      "source": [
        "%load_ext memory_profiler"
      ]
    },
    {
      "cell_type": "code",
      "execution_count": null,
      "metadata": {
        "colab": {
          "base_uri": "https://localhost:8080/"
        },
        "id": "FdpJ3e-hJT6h",
        "outputId": "b792e946-dae4-4c42-be4a-d3da7a4aaa27"
      },
      "outputs": [
        {
          "output_type": "stream",
          "name": "stdout",
          "text": [
            "peak memory: 3937.95 MiB, increment: 3811.05 MiB\n"
          ]
        }
      ],
      "source": [
        "%memit sum([n**i for n in range(1, N)])"
      ]
    },
    {
      "cell_type": "code",
      "execution_count": null,
      "metadata": {
        "colab": {
          "base_uri": "https://localhost:8080/"
        },
        "id": "s2huIiqdJj8Q",
        "outputId": "643f67f2-3e4c-4fa8-9533-5c1e4b4752b7"
      },
      "outputs": [
        {
          "output_type": "stream",
          "name": "stdout",
          "text": [
            "1.0000009539620338\n"
          ]
        }
      ],
      "source": [
        "G3 = (n**i for n in range(1, N))\n",
        "s = 0\n",
        "for g in G3:\n",
        "    s += g\n",
        "    if g < 1e-15:\n",
        "      break #computation stops once it goes below the machine precision\n",
        "print(s)\n",
        "\n"
      ]
    },
    {
      "cell_type": "code",
      "execution_count": null,
      "metadata": {
        "id": "wsI-Vp6BKCSU"
      },
      "outputs": [],
      "source": [
        "def natural_numbers(): # creating an infinite sequence\n",
        "  n = 0\n",
        "  while True:\n",
        "    yield n\n",
        "    n += 1\n"
      ]
    },
    {
      "cell_type": "code",
      "execution_count": null,
      "metadata": {
        "colab": {
          "base_uri": "https://localhost:8080/"
        },
        "id": "AbnGFGADKkfd",
        "outputId": "a81c74f9-c14d-4bdb-c29a-6bf42e39cb84"
      },
      "outputs": [
        {
          "output_type": "stream",
          "name": "stdout",
          "text": [
            "0\n",
            "1\n",
            "2\n",
            "3\n",
            "4\n",
            "5\n"
          ]
        }
      ],
      "source": [
        "for n in natural_numbers(): #creating a finite sequence of numbers\n",
        "  print(n)\n",
        "  if n >= 5: break # don't go into infinite loop"
      ]
    },
    {
      "cell_type": "code",
      "execution_count": null,
      "metadata": {
        "id": "iqnxIZWELXqX"
      },
      "outputs": [],
      "source": [
        "def fibonacci(max): # Fibonnaci generator\n",
        "  f, fnext = 0, 1\n",
        "  while f < max:\n",
        "    yield f\n",
        "    f, fnext = fnext, f + fnext"
      ]
    },
    {
      "cell_type": "code",
      "execution_count": null,
      "metadata": {
        "colab": {
          "base_uri": "https://localhost:8080/"
        },
        "id": "NYsfPWA7L6eY",
        "outputId": "b9d0d0f3-f29b-42ae-c81e-a3b2c70e84cc"
      },
      "outputs": [
        {
          "output_type": "stream",
          "name": "stdout",
          "text": [
            "0 1 1 2 3 5 8 13 21 34 55 89 144 233 377 610 987 1597 2584 4181 6765\n"
          ]
        }
      ],
      "source": [
        "Fn = fibonacci(10000)\n",
        "print(*Fn)"
      ]
    },
    {
      "cell_type": "code",
      "execution_count": null,
      "metadata": {
        "id": "zuOQfMsWfpWk"
      },
      "outputs": [],
      "source": [
        "P = [2, 3] #prime number for checking primes"
      ]
    },
    {
      "cell_type": "code",
      "execution_count": null,
      "metadata": {
        "colab": {
          "base_uri": "https://localhost:8080/"
        },
        "id": "fpUI2BunfzkB",
        "outputId": "11bf39e4-8373-4805-d660-4efeeef85e7d"
      },
      "outputs": [
        {
          "output_type": "execute_result",
          "data": {
            "text/plain": [
              "[0, 1]"
            ]
          },
          "metadata": {},
          "execution_count": 61
        }
      ],
      "source": [
        "[4 % p for p in P]"
      ]
    },
    {
      "cell_type": "code",
      "execution_count": null,
      "metadata": {
        "colab": {
          "base_uri": "https://localhost:8080/"
        },
        "id": "oNEU2SySf5IC",
        "outputId": "36336e10-932a-418c-d4d4-8f4a995a07b7"
      },
      "outputs": [
        {
          "output_type": "execute_result",
          "data": {
            "text/plain": [
              "False"
            ]
          },
          "metadata": {},
          "execution_count": 62
        }
      ],
      "source": [
        "all([4 % p for p in P])"
      ]
    },
    {
      "cell_type": "code",
      "execution_count": null,
      "metadata": {
        "colab": {
          "base_uri": "https://localhost:8080/"
        },
        "id": "u_ZhYHhdf-mi",
        "outputId": "89b8cf19-b0ce-4c3b-e5d3-aebab9507d65"
      },
      "outputs": [
        {
          "output_type": "execute_result",
          "data": {
            "text/plain": [
              "True"
            ]
          },
          "metadata": {},
          "execution_count": 63
        }
      ],
      "source": [
        "all([5 % p for p in P])"
      ]
    },
    {
      "cell_type": "code",
      "execution_count": null,
      "metadata": {
        "id": "zXZp9ZNHgJnd"
      },
      "outputs": [],
      "source": [
        "def prime_numbers(N): #for determing prime number in a list\n",
        "   primes = []\n",
        "   q = 1\n",
        "   for n in range(q+1, N):\n",
        "      if all(n % p > 0 for p in primes):\n",
        "         primes.append(n)\n",
        "         q = n\n",
        "         yield n"
      ]
    },
    {
      "cell_type": "code",
      "execution_count": null,
      "metadata": {
        "colab": {
          "base_uri": "https://localhost:8080/"
        },
        "id": "yXnJQYRdgkTe",
        "outputId": "d07db65a-e863-4e71-8dff-bd09c9ee7ad8"
      },
      "outputs": [
        {
          "output_type": "execute_result",
          "data": {
            "text/plain": [
              "[2, 3, 5, 7, 11, 13, 17, 19, 23, 29, 31, 37, 41, 43, 47, 53, 59, 61, 67]"
            ]
          },
          "metadata": {},
          "execution_count": 65
        }
      ],
      "source": [
        "list(prime_numbers(70)) #checking for primes"
      ]
    },
    {
      "cell_type": "code",
      "execution_count": null,
      "metadata": {
        "colab": {
          "base_uri": "https://localhost:8080/"
        },
        "id": "lttqUhfPqpf5",
        "outputId": "03dbf35a-2fa6-443d-ba3f-180cdd3124f9"
      },
      "outputs": [
        {
          "output_type": "stream",
          "name": "stdout",
          "text": [
            "Intersecting 1229 primes with 20 fibonaccis.\n"
          ]
        },
        {
          "output_type": "execute_result",
          "data": {
            "text/plain": [
              "{2, 3, 5, 13, 89, 233, 1597}"
            ]
          },
          "metadata": {},
          "execution_count": 66
        }
      ],
      "source": [
        "def fibonacci_primes(N): #checking for primes\n",
        "    F = set(fibonacci(N))\n",
        "    P = set(prime_numbers(N))\n",
        "    print('Intersecting', len(P), 'primes with', len(F), 'fibonaccis.')\n",
        "    return P.intersection(F)\n",
        "fibonacci_primes(10000)"
      ]
    },
    {
      "cell_type": "code",
      "execution_count": null,
      "metadata": {
        "id": "i9--jKOtrign"
      },
      "outputs": [],
      "source": [
        "nFP = [3, 4, 5, 7, 11, 13, 17, 23, 29, 43]"
      ]
    },
    {
      "cell_type": "code",
      "execution_count": null,
      "metadata": {
        "id": "wefzeniUrrHq"
      },
      "outputs": [],
      "source": [
        "def test_fibonacci_prime(): #listing fibonacci primes less than N\n",
        "   N = 10000\n",
        "   F = list(fibonacci(N))\n",
        "   nFP = [3, 4, 5, 7, 11, 13, 17, 23, 29, 43]\n",
        "   our_list = fibonacci_primes(N)\n",
        "   known_list = set([F[n] for n in nFP if n < len(F)])\n",
        "   assert len(known_list.difference(our_list))==0, 'We have a bug!'\n",
        "   print('Passed test!')\n"
      ]
    },
    {
      "cell_type": "code",
      "execution_count": null,
      "metadata": {
        "colab": {
          "base_uri": "https://localhost:8080/"
        },
        "id": "ZBDnpIfFr83T",
        "outputId": "dd371763-86bc-46ff-9a96-555e71511c30"
      },
      "outputs": [
        {
          "output_type": "stream",
          "name": "stdout",
          "text": [
            "Intersecting 1229 primes with 20 fibonaccis.\n",
            "Passed test!\n"
          ]
        }
      ],
      "source": [
        "test_fibonacci_prime()"
      ]
    },
    {
      "cell_type": "code",
      "execution_count": null,
      "metadata": {
        "colab": {
          "base_uri": "https://localhost:8080/"
        },
        "id": "Ig0J30-BsG4q",
        "outputId": "d742a503-cbef-48d3-92b6-a6d95aed39db"
      },
      "outputs": [
        {
          "output_type": "stream",
          "name": "stdout",
          "text": [
            "\u001b[1m============================= test session starts ==============================\u001b[0m\n",
            "platform linux -- Python 3.10.12, pytest-7.4.0, pluggy-1.2.0\n",
            "rootdir: /content\n",
            "plugins: anyio-3.7.1\n",
            "\u001b[1mcollecting ... \u001b[0m\u001b[1m\rcollected 1 item                                                               \u001b[0m\n",
            "\n",
            "pyfiles/fibonacci_primes/test_fibonacci_primes.py \u001b[32m.\u001b[0m\u001b[32m                      [100%]\u001b[0m\n",
            "\n",
            "\u001b[32m============================== \u001b[32m\u001b[1m1 passed\u001b[0m\u001b[32m in 0.18s\u001b[0m\u001b[32m ===============================\u001b[0m\n"
          ]
        }
      ],
      "source": [
        "!pytest /content/pyfiles/fibonacci_primes"
      ]
    },
    {
      "cell_type": "code",
      "source": [
        "!apt-get update\n",
        "!apt-get install -y primesieve\n",
        "!apt-get install -y libprimesieve-dev"
      ],
      "metadata": {
        "colab": {
          "base_uri": "https://localhost:8080/"
        },
        "id": "f24aHpfXtMTm",
        "outputId": "c9955c90-b8cb-4f47-b0dd-2d9e6e62eaeb"
      },
      "execution_count": null,
      "outputs": [
        {
          "output_type": "stream",
          "name": "stdout",
          "text": [
            "\r0% [Working]\r            \rHit:1 https://developer.download.nvidia.com/compute/cuda/repos/ubuntu2204/x86_64  InRelease\n",
            "Hit:2 https://cloud.r-project.org/bin/linux/ubuntu jammy-cran40/ InRelease\n",
            "Hit:3 http://archive.ubuntu.com/ubuntu jammy InRelease\n",
            "Hit:4 http://archive.ubuntu.com/ubuntu jammy-updates InRelease\n",
            "Hit:5 http://security.ubuntu.com/ubuntu jammy-security InRelease\n",
            "Hit:6 http://archive.ubuntu.com/ubuntu jammy-backports InRelease\n",
            "Hit:7 https://ppa.launchpadcontent.net/c2d4u.team/c2d4u4.0+/ubuntu jammy InRelease\n",
            "Hit:8 https://ppa.launchpadcontent.net/deadsnakes/ppa/ubuntu jammy InRelease\n",
            "Hit:9 https://ppa.launchpadcontent.net/graphics-drivers/ppa/ubuntu jammy InRelease\n",
            "Hit:10 https://ppa.launchpadcontent.net/ubuntugis/ppa/ubuntu jammy InRelease\n",
            "Reading package lists... Done\n",
            "Reading package lists... Done\n",
            "Building dependency tree... Done\n",
            "Reading state information... Done\n",
            "primesieve is already the newest version (7.8+ds-1).\n",
            "0 upgraded, 0 newly installed, 0 to remove and 17 not upgraded.\n",
            "Reading package lists... Done\n",
            "Building dependency tree... Done\n",
            "Reading state information... Done\n",
            "libprimesieve-dev is already the newest version (7.8+ds-1).\n",
            "0 upgraded, 0 newly installed, 0 to remove and 17 not upgraded.\n"
          ]
        }
      ]
    },
    {
      "cell_type": "code",
      "source": [
        "!pip install primesieve"
      ],
      "metadata": {
        "colab": {
          "base_uri": "https://localhost:8080/"
        },
        "id": "AnmdfJaOtOA9",
        "outputId": "8a7e11b3-fa3e-4c93-b8d6-b3b43f7a5a86"
      },
      "execution_count": null,
      "outputs": [
        {
          "output_type": "stream",
          "name": "stdout",
          "text": [
            "Requirement already satisfied: primesieve in /usr/local/lib/python3.10/dist-packages (2.3.2)\n"
          ]
        }
      ]
    },
    {
      "cell_type": "code",
      "execution_count": null,
      "metadata": {
        "colab": {
          "base_uri": "https://localhost:8080/"
        },
        "id": "cqH-0Wb8xEnI",
        "outputId": "16a3bc77-ca58-4612-c0eb-75b2d9a44ede"
      },
      "outputs": [
        {
          "output_type": "execute_result",
          "data": {
            "text/plain": [
              "[2, 3, 5, 7, 11, 13, 17, 19, 23, 29, 31, 37, 41, 43, 47, 53, 59, 61, 67]"
            ]
          },
          "metadata": {},
          "execution_count": 73
        }
      ],
      "source": [
        "from primesieve import primes # after installing primesieve\n",
        "list(primes(70))"
      ]
    },
    {
      "cell_type": "code",
      "source": [
        "%timeit primes(1000)"
      ],
      "metadata": {
        "colab": {
          "base_uri": "https://localhost:8080/"
        },
        "id": "Q3YKQyrT_Xwo",
        "outputId": "378c0ba7-6328-4a5a-da4f-025e7474f9a6"
      },
      "execution_count": null,
      "outputs": [
        {
          "output_type": "stream",
          "name": "stdout",
          "text": [
            "2.79 µs ± 477 ns per loop (mean ± std. dev. of 7 runs, 100000 loops each)\n"
          ]
        }
      ]
    },
    {
      "cell_type": "code",
      "source": [
        "%timeit list(prime_numbers(1000))"
      ],
      "metadata": {
        "colab": {
          "base_uri": "https://localhost:8080/"
        },
        "id": "OIx6NmSY_fvw",
        "outputId": "05496912-a8a5-4569-bf10-e4ce778965eb"
      },
      "execution_count": null,
      "outputs": [
        {
          "output_type": "stream",
          "name": "stdout",
          "text": [
            "2.31 ms ± 664 µs per loop (mean ± std. dev. of 7 runs, 1000 loops each)\n"
          ]
        }
      ]
    },
    {
      "cell_type": "code",
      "source": [],
      "metadata": {
        "id": "q8hsahKo_skY"
      },
      "execution_count": null,
      "outputs": []
    },
    {
      "cell_type": "code",
      "source": [
        "import primesieve, math\n",
        "def is_square(n):\n",
        "   s = int(math.sqrt(n))\n",
        "   return s*s == n\n",
        "it = primesieve.Iterator()\n",
        "it.skipto(2**28-1)\n",
        "p = it.next_prime()\n",
        "while p < 2**30-1:\n",
        "    if is_square(5*p*p+4) or is_square(5*p*p-4):\n",
        "        print('¡¡ Got one !! ', p, 'is a Fibonacci prime!')\n",
        "    p = it.next_prime()\n"
      ],
      "metadata": {
        "colab": {
          "base_uri": "https://localhost:8080/"
        },
        "id": "B0SAVBGn_6hq",
        "outputId": "7a911620-1980-4c08-f67d-07c9cccdb08b"
      },
      "execution_count": null,
      "outputs": [
        {
          "output_type": "stream",
          "name": "stdout",
          "text": [
            "¡¡ Got one !!  433494437 is a Fibonacci prime!\n"
          ]
        }
      ]
    },
    {
      "cell_type": "code",
      "source": [],
      "metadata": {
        "id": "NqD4Z47FNf-2"
      },
      "execution_count": null,
      "outputs": []
    },
    {
      "cell_type": "code",
      "source": [],
      "metadata": {
        "id": "rAO1j0nnNuiR"
      },
      "execution_count": null,
      "outputs": []
    }
  ],
  "metadata": {
    "colab": {
      "provenance": [],
      "include_colab_link": true
    },
    "kernelspec": {
      "display_name": "Python 3",
      "name": "python3"
    },
    "language_info": {
      "name": "python"
    }
  },
  "nbformat": 4,
  "nbformat_minor": 0
}