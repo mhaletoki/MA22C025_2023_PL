{
  "cells": [
    {
      "cell_type": "markdown",
      "metadata": {
        "id": "view-in-github",
        "colab_type": "text"
      },
      "source": [
        "<a href=\"https://colab.research.google.com/github/mhaletoki/MA22C025_2023_PL/blob/main/Assignments/Assignment_4/Fibonacci_primes.ipynb\" target=\"_parent\"><img src=\"https://colab.research.google.com/assets/colab-badge.svg\" alt=\"Open In Colab\"/></a>"
      ]
    },
    {
      "cell_type": "code",
      "execution_count": null,
      "metadata": {
        "id": "SmxomqIF30uT"
      },
      "outputs": [],
      "source": [
        "i=2; N=10\n",
        "L = [n**i for n in range(1, N)] # [ ] is for list\n"
      ]
    },
    {
      "cell_type": "code",
      "execution_count": null,
      "metadata": {
        "id": "PIIejvDb4Myf"
      },
      "outputs": [],
      "source": [
        "G = (n**i for n in range(1, N)) # generator expresion"
      ]
    },
    {
      "cell_type": "code",
      "execution_count": null,
      "metadata": {
        "colab": {
          "base_uri": "https://localhost:8080/"
        },
        "id": "iLgDwG104WWe",
        "outputId": "cc26d09f-a9e2-4db3-9108-7d715158e965"
      },
      "outputs": [
        {
          "output_type": "execute_result",
          "data": {
            "text/plain": [
              "[1, 4, 9, 16, 25, 36, 49, 64, 81]"
            ]
          },
          "metadata": {},
          "execution_count": 3
        }
      ],
      "source": [
        "[l for l in L ]"
      ]
    },
    {
      "cell_type": "code",
      "execution_count": null,
      "metadata": {
        "colab": {
          "base_uri": "https://localhost:8080/"
        },
        "id": "ya2RvGfdA8sE",
        "outputId": "84810c48-b099-41d6-fb6c-ec83040f1401"
      },
      "outputs": [
        {
          "output_type": "stream",
          "name": "stdout",
          "text": [
            "[1, 4, 9, 16, 25]\n"
          ]
        }
      ],
      "source": [
        "L = [1, 2, 3, 4, 5]\n",
        "squared_list = [x**2 for x in L]\n",
        "print(squared_list)\n"
      ]
    },
    {
      "cell_type": "code",
      "execution_count": null,
      "metadata": {
        "colab": {
          "base_uri": "https://localhost:8080/"
        },
        "id": "cmT7U09BEiRZ",
        "outputId": "bfaf4b2a-1142-4541-81f6-73610e6c344e"
      },
      "outputs": [
        {
          "output_type": "execute_result",
          "data": {
            "text/plain": [
              "[1, 4, 9, 16, 25, 36, 49, 64, 81]"
            ]
          },
          "metadata": {},
          "execution_count": 5
        }
      ],
      "source": [
        "[g for g in G]"
      ]
    },
    {
      "cell_type": "code",
      "execution_count": null,
      "metadata": {
        "colab": {
          "base_uri": "https://localhost:8080/"
        },
        "id": "dDT-zIf4Eyo4",
        "outputId": "bed3a5d9-c077-47cc-bfd8-0595a3c1012e"
      },
      "outputs": [
        {
          "output_type": "execute_result",
          "data": {
            "text/plain": [
              "[]"
            ]
          },
          "metadata": {},
          "execution_count": 6
        }
      ],
      "source": [
        "\n",
        "[g for g in G]"
      ]
    },
    {
      "cell_type": "code",
      "execution_count": null,
      "metadata": {
        "id": "gYNHGWiNE-_y"
      },
      "outputs": [],
      "source": [
        "def GG():\n",
        "  for n in range(1, N):\n",
        "   yield n**i\n"
      ]
    },
    {
      "cell_type": "code",
      "execution_count": null,
      "metadata": {
        "colab": {
          "base_uri": "https://localhost:8080/"
        },
        "id": "1UsD6NpJFP-V",
        "outputId": "07c92d8d-f7b5-4e1f-ddd4-8b52e6cf049b"
      },
      "outputs": [
        {
          "output_type": "stream",
          "name": "stdout",
          "text": [
            "1 4 9 16 25 36 49 64 81\n"
          ]
        }
      ],
      "source": [
        "G2 = GG()\n",
        "print(*G2) # see that you get the same values as before"
      ]
    },
    {
      "cell_type": "code",
      "execution_count": null,
      "metadata": {
        "colab": {
          "base_uri": "https://localhost:8080/"
        },
        "id": "UIzcZDmsHPgG",
        "outputId": "54d31c96-c06f-41de-a605-85d2cd6673c8"
      },
      "outputs": [
        {
          "output_type": "stream",
          "name": "stdout",
          "text": [
            "1 2 3 4 5\n"
          ]
        }
      ],
      "source": [
        "G2 = [1, 2, 3, 4, 5]\n",
        "print(*G2)\n"
      ]
    },
    {
      "cell_type": "code",
      "execution_count": null,
      "metadata": {
        "colab": {
          "base_uri": "https://localhost:8080/"
        },
        "id": "BPlTFFLGGJL3",
        "outputId": "acc47a2f-5013-482e-dc1a-559ac2d6b5fb"
      },
      "outputs": [
        {
          "output_type": "execute_result",
          "data": {
            "text/plain": [
              "(1, 4, 9)"
            ]
          },
          "metadata": {},
          "execution_count": 10
        }
      ],
      "source": [
        "G2 = GG()\n",
        "# get the first 3 values of the sequence using next:\n",
        "next(G2), next(G2), next(G2)"
      ]
    },
    {
      "cell_type": "code",
      "execution_count": null,
      "metadata": {
        "colab": {
          "base_uri": "https://localhost:8080/"
        },
        "id": "5BnXs3ppGZWt",
        "outputId": "fe8eb2e5-a579-4a00-f665-a6bf95671af7"
      },
      "outputs": [
        {
          "output_type": "stream",
          "name": "stdout",
          "text": [
            "16 25 36 49 64 81\n"
          ]
        }
      ],
      "source": [
        "print(*G2) # print the remaining values of the sequence"
      ]
    },
    {
      "cell_type": "code",
      "execution_count": null,
      "metadata": {
        "id": "Ey4TmxHTHdRz"
      },
      "outputs": [],
      "source": [
        "i = -20\n",
        "N = 10**8\n"
      ]
    },
    {
      "cell_type": "code",
      "execution_count": null,
      "metadata": {
        "colab": {
          "base_uri": "https://localhost:8080/"
        },
        "id": "OT16p7aVJDIb",
        "outputId": "683fb1c0-1eba-4850-9f51-47b49369bd23"
      },
      "outputs": [
        {
          "output_type": "stream",
          "name": "stdout",
          "text": [
            "Collecting memory-profiler\n",
            "  Downloading memory_profiler-0.61.0-py3-none-any.whl (31 kB)\n",
            "Requirement already satisfied: psutil in /usr/local/lib/python3.10/dist-packages (from memory-profiler) (5.9.5)\n",
            "Installing collected packages: memory-profiler\n",
            "Successfully installed memory-profiler-0.61.0\n"
          ]
        }
      ],
      "source": [
        "!pip install memory-profiler\n"
      ]
    },
    {
      "cell_type": "code",
      "execution_count": null,
      "metadata": {
        "id": "NYu0l5KuHsS9"
      },
      "outputs": [],
      "source": [
        "%load_ext memory_profiler"
      ]
    },
    {
      "cell_type": "code",
      "execution_count": null,
      "metadata": {
        "colab": {
          "base_uri": "https://localhost:8080/"
        },
        "id": "FdpJ3e-hJT6h",
        "outputId": "63d7e134-a70b-4cb5-e815-b3c18bb88d1f"
      },
      "outputs": [
        {
          "output_type": "stream",
          "name": "stdout",
          "text": [
            "peak memory: 3922.95 MiB, increment: 3829.25 MiB\n"
          ]
        }
      ],
      "source": [
        "%memit sum([n**i for n in range(1, N)])"
      ]
    },
    {
      "cell_type": "code",
      "execution_count": null,
      "metadata": {
        "colab": {
          "base_uri": "https://localhost:8080/"
        },
        "id": "s2huIiqdJj8Q",
        "outputId": "ee3d6680-fb07-4cc9-f6fa-82dccfd9bb32"
      },
      "outputs": [
        {
          "output_type": "stream",
          "name": "stdout",
          "text": [
            "1.0000009539620338\n"
          ]
        }
      ],
      "source": [
        "G3 = (n**i for n in range(1, N))\n",
        "s = 0\n",
        "for g in G3:\n",
        "    s += g\n",
        "    if g < 1e-15:\n",
        "      break #computation stops once it goes below the machine precision\n",
        "print(s)\n",
        "\n"
      ]
    },
    {
      "cell_type": "code",
      "execution_count": null,
      "metadata": {
        "id": "wsI-Vp6BKCSU"
      },
      "outputs": [],
      "source": [
        "def natural_numbers(): # creating an infinite sequence\n",
        "  n = 0\n",
        "  while True:\n",
        "    yield n\n",
        "    n += 1\n"
      ]
    },
    {
      "cell_type": "code",
      "execution_count": null,
      "metadata": {
        "colab": {
          "base_uri": "https://localhost:8080/"
        },
        "id": "AbnGFGADKkfd",
        "outputId": "ac87f6e6-8bd8-4117-b58d-8a39d7352cbc"
      },
      "outputs": [
        {
          "output_type": "stream",
          "name": "stdout",
          "text": [
            "0\n",
            "1\n",
            "2\n",
            "3\n",
            "4\n",
            "5\n"
          ]
        }
      ],
      "source": [
        "for n in natural_numbers(): #creating a finite sequence of numbers\n",
        "  print(n)\n",
        "  if n >= 5: break # don't go into infinite loop"
      ]
    },
    {
      "cell_type": "code",
      "execution_count": null,
      "metadata": {
        "id": "iqnxIZWELXqX"
      },
      "outputs": [],
      "source": [
        "def fibonacci(max): # Fibonnaci generator\n",
        "  f, fnext = 0, 1\n",
        "  while f < max:\n",
        "    yield f\n",
        "    f, fnext = fnext, f + fnext"
      ]
    },
    {
      "cell_type": "code",
      "execution_count": null,
      "metadata": {
        "colab": {
          "base_uri": "https://localhost:8080/"
        },
        "id": "NYsfPWA7L6eY",
        "outputId": "9764a930-603a-4a5c-dcc6-4e2858689eb1"
      },
      "outputs": [
        {
          "output_type": "stream",
          "name": "stdout",
          "text": [
            "0 1 1 2 3 5 8 13 21 34 55 89 144 233 377 610 987 1597 2584 4181 6765\n"
          ]
        }
      ],
      "source": [
        "Fn = fibonacci(10000)\n",
        "print(*Fn)"
      ]
    },
    {
      "cell_type": "code",
      "execution_count": null,
      "metadata": {
        "id": "zuOQfMsWfpWk"
      },
      "outputs": [],
      "source": [
        "P = [2, 3] #prime number for checking primes"
      ]
    },
    {
      "cell_type": "code",
      "execution_count": null,
      "metadata": {
        "colab": {
          "base_uri": "https://localhost:8080/"
        },
        "id": "fpUI2BunfzkB",
        "outputId": "a332189d-bb1d-4863-e1c8-bc68ae7e8ac3"
      },
      "outputs": [
        {
          "output_type": "execute_result",
          "data": {
            "text/plain": [
              "[0, 1]"
            ]
          },
          "metadata": {},
          "execution_count": 22
        }
      ],
      "source": [
        "[4 % p for p in P]"
      ]
    },
    {
      "cell_type": "code",
      "execution_count": null,
      "metadata": {
        "colab": {
          "base_uri": "https://localhost:8080/"
        },
        "id": "oNEU2SySf5IC",
        "outputId": "a569864d-53c5-492c-8cb6-c7e688a12810"
      },
      "outputs": [
        {
          "output_type": "execute_result",
          "data": {
            "text/plain": [
              "False"
            ]
          },
          "metadata": {},
          "execution_count": 23
        }
      ],
      "source": [
        "all([4 % p for p in P])"
      ]
    },
    {
      "cell_type": "code",
      "execution_count": null,
      "metadata": {
        "colab": {
          "base_uri": "https://localhost:8080/"
        },
        "id": "u_ZhYHhdf-mi",
        "outputId": "35bef510-ddba-4d28-8fb1-75cb12cacc11"
      },
      "outputs": [
        {
          "output_type": "execute_result",
          "data": {
            "text/plain": [
              "True"
            ]
          },
          "metadata": {},
          "execution_count": 24
        }
      ],
      "source": [
        "all([5 % p for p in P])"
      ]
    },
    {
      "cell_type": "code",
      "execution_count": null,
      "metadata": {
        "id": "zXZp9ZNHgJnd"
      },
      "outputs": [],
      "source": [
        "def prime_numbers(N): #for determing prime number in a list\n",
        "   primes = []\n",
        "   q = 1\n",
        "   for n in range(q+1, N):\n",
        "      if all(n % p > 0 for p in primes):\n",
        "         primes.append(n)\n",
        "         q = n\n",
        "         yield n"
      ]
    },
    {
      "cell_type": "code",
      "execution_count": null,
      "metadata": {
        "colab": {
          "base_uri": "https://localhost:8080/"
        },
        "id": "yXnJQYRdgkTe",
        "outputId": "efd8967f-d6b8-4567-e981-d6174885582d"
      },
      "outputs": [
        {
          "output_type": "execute_result",
          "data": {
            "text/plain": [
              "[2, 3, 5, 7, 11, 13, 17, 19, 23, 29, 31, 37, 41, 43, 47, 53, 59, 61, 67]"
            ]
          },
          "metadata": {},
          "execution_count": 26
        }
      ],
      "source": [
        "list(prime_numbers(70)) #checking for primes"
      ]
    },
    {
      "cell_type": "code",
      "execution_count": null,
      "metadata": {
        "colab": {
          "base_uri": "https://localhost:8080/"
        },
        "id": "lttqUhfPqpf5",
        "outputId": "7fb58366-987c-4247-e03d-10ab0ad7f8ef"
      },
      "outputs": [
        {
          "output_type": "stream",
          "name": "stdout",
          "text": [
            "Intersecting 1229 primes with 20 fibonaccis.\n"
          ]
        },
        {
          "output_type": "execute_result",
          "data": {
            "text/plain": [
              "{2, 3, 5, 13, 89, 233, 1597}"
            ]
          },
          "metadata": {},
          "execution_count": 27
        }
      ],
      "source": [
        "def fibonacci_primes(N): #checking for primes\n",
        "    F = set(fibonacci(N))\n",
        "    P = set(prime_numbers(N))\n",
        "    print('Intersecting', len(P), 'primes with', len(F), 'fibonaccis.')\n",
        "    return P.intersection(F)\n",
        "fibonacci_primes(10000)"
      ]
    },
    {
      "cell_type": "code",
      "execution_count": null,
      "metadata": {
        "id": "i9--jKOtrign"
      },
      "outputs": [],
      "source": [
        "nFP = [3, 4, 5, 7, 11, 13, 17, 23, 29, 43]"
      ]
    },
    {
      "cell_type": "code",
      "execution_count": null,
      "metadata": {
        "id": "wefzeniUrrHq"
      },
      "outputs": [],
      "source": [
        "def test_fibonacci_prime(): #listing fibonacci primes less than N\n",
        "   N = 10000\n",
        "   F = list(fibonacci(N))\n",
        "   nFP = [3, 4, 5, 7, 11, 13, 17, 23, 29, 43]\n",
        "   our_list = fibonacci_primes(N)\n",
        "   known_list = set([F[n] for n in nFP if n < len(F)])\n",
        "   assert len(known_list.difference(our_list))==0, 'We have a bug!'\n",
        "   print('Passed test!')\n"
      ]
    },
    {
      "cell_type": "code",
      "execution_count": null,
      "metadata": {
        "colab": {
          "base_uri": "https://localhost:8080/"
        },
        "id": "ZBDnpIfFr83T",
        "outputId": "60be452c-645f-4f07-cace-9257ac81779a"
      },
      "outputs": [
        {
          "output_type": "stream",
          "name": "stdout",
          "text": [
            "Intersecting 1229 primes with 20 fibonaccis.\n",
            "Passed test!\n"
          ]
        }
      ],
      "source": [
        "test_fibonacci_prime()"
      ]
    },
    {
      "cell_type": "code",
      "execution_count": null,
      "metadata": {
        "colab": {
          "base_uri": "https://localhost:8080/"
        },
        "id": "Ig0J30-BsG4q",
        "outputId": "9b0dbb3a-aa06-4295-aafc-a23c565fb502"
      },
      "outputs": [
        {
          "output_type": "stream",
          "name": "stdout",
          "text": [
            "\u001b[1m============================= test session starts ==============================\u001b[0m\n",
            "platform linux -- Python 3.10.12, pytest-7.4.0, pluggy-1.2.0\n",
            "rootdir: /content\n",
            "plugins: anyio-3.7.1\n",
            "\u001b[1mcollecting ... \u001b[0m\u001b[1m\rcollected 0 items                                                              \u001b[0m\n",
            "\n",
            "\u001b[33m============================ \u001b[33mno tests ran\u001b[0m\u001b[33m in 0.00s\u001b[0m\u001b[33m =============================\u001b[0m\n",
            "\u001b[31mERROR: file or directory not found: ../pyfiles/fibonacci_primes\n",
            "\u001b[0m\n"
          ]
        }
      ],
      "source": [
        "!pytest ../pyfiles/fibonacci_primes"
      ]
    },
    {
      "cell_type": "code",
      "source": [
        "!apt-get update\n",
        "!apt-get install -y primesieve\n",
        "!apt-get install -y libprimesieve-dev"
      ],
      "metadata": {
        "colab": {
          "base_uri": "https://localhost:8080/"
        },
        "id": "f24aHpfXtMTm",
        "outputId": "67be7423-f8f2-4107-c96e-551b7767ab05"
      },
      "execution_count": null,
      "outputs": [
        {
          "output_type": "stream",
          "name": "stdout",
          "text": [
            "\r0% [Working]\r            \rGet:1 http://security.ubuntu.com/ubuntu jammy-security InRelease [110 kB]\n",
            "\r0% [Connecting to archive.ubuntu.com (185.125.190.39)] [1 InRelease 5,481 B/110\r                                                                               \rGet:2 https://cloud.r-project.org/bin/linux/ubuntu jammy-cran40/ InRelease [3,626 B]\n",
            "\r0% [Waiting for headers] [1 InRelease 46.0 kB/110 kB 42%] [2 InRelease 0 B/3,62\r0% [Waiting for headers] [1 InRelease 75.0 kB/110 kB 68%] [Connected to ppa.lau\r                                                                               \rHit:3 https://developer.download.nvidia.com/compute/cuda/repos/ubuntu2204/x86_64  InRelease\n",
            "Hit:4 http://archive.ubuntu.com/ubuntu jammy InRelease\n",
            "Get:5 http://archive.ubuntu.com/ubuntu jammy-updates InRelease [119 kB]\n",
            "Hit:6 https://ppa.launchpadcontent.net/c2d4u.team/c2d4u4.0+/ubuntu jammy InRelease\n",
            "Get:7 http://security.ubuntu.com/ubuntu jammy-security/restricted amd64 Packages [995 kB]\n",
            "Get:8 http://archive.ubuntu.com/ubuntu jammy-backports InRelease [109 kB]\n",
            "Get:9 http://security.ubuntu.com/ubuntu jammy-security/main amd64 Packages [915 kB]\n",
            "Hit:10 https://ppa.launchpadcontent.net/deadsnakes/ppa/ubuntu jammy InRelease\n",
            "Get:11 http://archive.ubuntu.com/ubuntu jammy-updates/main amd64 Packages [1,185 kB]\n",
            "Get:12 https://ppa.launchpadcontent.net/graphics-drivers/ppa/ubuntu jammy InRelease [24.3 kB]\n",
            "Get:13 http://archive.ubuntu.com/ubuntu jammy-updates/universe amd64 Packages [1,251 kB]\n",
            "Get:14 http://archive.ubuntu.com/ubuntu jammy-updates/restricted amd64 Packages [1,015 kB]\n",
            "Get:15 http://archive.ubuntu.com/ubuntu jammy-backports/universe amd64 Packages [28.1 kB]\n",
            "Get:16 http://archive.ubuntu.com/ubuntu jammy-backports/main amd64 Packages [50.3 kB]\n",
            "Hit:17 https://ppa.launchpadcontent.net/ubuntugis/ppa/ubuntu jammy InRelease\n",
            "Get:18 https://ppa.launchpadcontent.net/graphics-drivers/ppa/ubuntu jammy/main amd64 Packages [37.3 kB]\n",
            "Fetched 5,843 kB in 2s (2,548 kB/s)\n",
            "Reading package lists... Done\n",
            "Reading package lists... Done\n",
            "Building dependency tree... Done\n",
            "Reading state information... Done\n",
            "The following additional packages will be installed:\n",
            "  libprimesieve9 primesieve-bin\n",
            "Suggested packages:\n",
            "  primesieve-doc\n",
            "The following NEW packages will be installed:\n",
            "  libprimesieve9 primesieve primesieve-bin\n",
            "0 upgraded, 3 newly installed, 0 to remove and 16 not upgraded.\n",
            "Need to get 109 kB of archives.\n",
            "After this operation, 323 kB of additional disk space will be used.\n",
            "Get:1 http://archive.ubuntu.com/ubuntu jammy/universe amd64 libprimesieve9 amd64 7.8+ds-1 [76.7 kB]\n",
            "Get:2 http://archive.ubuntu.com/ubuntu jammy/universe amd64 primesieve-bin amd64 7.8+ds-1 [28.6 kB]\n",
            "Get:3 http://archive.ubuntu.com/ubuntu jammy/universe amd64 primesieve all 7.8+ds-1 [3,212 B]\n",
            "Fetched 109 kB in 1s (193 kB/s)\n",
            "Selecting previously unselected package libprimesieve9:amd64.\n",
            "(Reading database ... 120893 files and directories currently installed.)\n",
            "Preparing to unpack .../libprimesieve9_7.8+ds-1_amd64.deb ...\n",
            "Unpacking libprimesieve9:amd64 (7.8+ds-1) ...\n",
            "Selecting previously unselected package primesieve-bin.\n",
            "Preparing to unpack .../primesieve-bin_7.8+ds-1_amd64.deb ...\n",
            "Unpacking primesieve-bin (7.8+ds-1) ...\n",
            "Selecting previously unselected package primesieve.\n",
            "Preparing to unpack .../primesieve_7.8+ds-1_all.deb ...\n",
            "Unpacking primesieve (7.8+ds-1) ...\n",
            "Setting up libprimesieve9:amd64 (7.8+ds-1) ...\n",
            "Setting up primesieve-bin (7.8+ds-1) ...\n",
            "Setting up primesieve (7.8+ds-1) ...\n",
            "Processing triggers for man-db (2.10.2-1) ...\n",
            "Processing triggers for libc-bin (2.35-0ubuntu3.1) ...\n",
            "/sbin/ldconfig.real: /usr/local/lib/libtbbmalloc.so.2 is not a symbolic link\n",
            "\n",
            "/sbin/ldconfig.real: /usr/local/lib/libtbbmalloc_proxy.so.2 is not a symbolic link\n",
            "\n",
            "/sbin/ldconfig.real: /usr/local/lib/libtbb.so.12 is not a symbolic link\n",
            "\n",
            "/sbin/ldconfig.real: /usr/local/lib/libtbbbind_2_5.so.3 is not a symbolic link\n",
            "\n",
            "/sbin/ldconfig.real: /usr/local/lib/libtbbbind.so.3 is not a symbolic link\n",
            "\n",
            "/sbin/ldconfig.real: /usr/local/lib/libtbbbind_2_0.so.3 is not a symbolic link\n",
            "\n",
            "Reading package lists... Done\n",
            "Building dependency tree... Done\n",
            "Reading state information... Done\n",
            "The following additional packages will be installed:\n",
            "  libprimesieve-dev-common\n",
            "Suggested packages:\n",
            "  primesieve-doc\n",
            "The following NEW packages will be installed:\n",
            "  libprimesieve-dev libprimesieve-dev-common\n",
            "0 upgraded, 2 newly installed, 0 to remove and 16 not upgraded.\n",
            "Need to get 101 kB of archives.\n",
            "After this operation, 487 kB of additional disk space will be used.\n",
            "Get:1 http://archive.ubuntu.com/ubuntu jammy/universe amd64 libprimesieve-dev-common all 7.8+ds-1 [14.6 kB]\n",
            "Get:2 http://archive.ubuntu.com/ubuntu jammy/universe amd64 libprimesieve-dev amd64 7.8+ds-1 [86.4 kB]\n",
            "Fetched 101 kB in 1s (176 kB/s)\n",
            "Selecting previously unselected package libprimesieve-dev-common.\n",
            "(Reading database ... 120907 files and directories currently installed.)\n",
            "Preparing to unpack .../libprimesieve-dev-common_7.8+ds-1_all.deb ...\n",
            "Unpacking libprimesieve-dev-common (7.8+ds-1) ...\n",
            "Selecting previously unselected package libprimesieve-dev:amd64.\n",
            "Preparing to unpack .../libprimesieve-dev_7.8+ds-1_amd64.deb ...\n",
            "Unpacking libprimesieve-dev:amd64 (7.8+ds-1) ...\n",
            "Setting up libprimesieve-dev-common (7.8+ds-1) ...\n",
            "Setting up libprimesieve-dev:amd64 (7.8+ds-1) ...\n"
          ]
        }
      ]
    },
    {
      "cell_type": "code",
      "source": [
        "!pip install primesieve"
      ],
      "metadata": {
        "colab": {
          "base_uri": "https://localhost:8080/"
        },
        "id": "AnmdfJaOtOA9",
        "outputId": "abae276b-054c-4faf-9164-f561e845c711"
      },
      "execution_count": null,
      "outputs": [
        {
          "output_type": "stream",
          "name": "stdout",
          "text": [
            "Collecting primesieve\n",
            "  Downloading primesieve-2.3.2.tar.gz (92 kB)\n",
            "\u001b[?25l     \u001b[90m━━━━━━━━━━━━━━━━━━━━━━━━━━━━━━━━━━━━━━━━\u001b[0m \u001b[32m0.0/92.4 kB\u001b[0m \u001b[31m?\u001b[0m eta \u001b[36m-:--:--\u001b[0m\r\u001b[2K     \u001b[91m━━━━━━━━━━━━━\u001b[0m\u001b[90m╺\u001b[0m\u001b[90m━━━━━━━━━━━━━━━━━━━━━━━━━━\u001b[0m \u001b[32m30.7/92.4 kB\u001b[0m \u001b[31m1.0 MB/s\u001b[0m eta \u001b[36m0:00:01\u001b[0m\r\u001b[2K     \u001b[90m━━━━━━━━━━━━━━━━━━━━━━━━━━━━━━━━━━━━━━━━\u001b[0m \u001b[32m92.4/92.4 kB\u001b[0m \u001b[31m1.5 MB/s\u001b[0m eta \u001b[36m0:00:00\u001b[0m\n",
            "\u001b[?25h  Preparing metadata (setup.py) ... \u001b[?25l\u001b[?25hdone\n",
            "Building wheels for collected packages: primesieve\n",
            "  Building wheel for primesieve (setup.py) ... \u001b[?25l\u001b[?25hdone\n",
            "  Created wheel for primesieve: filename=primesieve-2.3.2-cp310-cp310-linux_x86_64.whl size=296257 sha256=c15d047ce10fa84302900f25c7a936b3fcc5e9771b943a2a69577767224a8f76\n",
            "  Stored in directory: /root/.cache/pip/wheels/b5/aa/75/e002789ba0e5e72dbe4c28ae10ac42560f2e5dff9b04a79bfa\n",
            "Successfully built primesieve\n",
            "Installing collected packages: primesieve\n",
            "Successfully installed primesieve-2.3.2\n"
          ]
        }
      ]
    },
    {
      "cell_type": "code",
      "execution_count": null,
      "metadata": {
        "colab": {
          "base_uri": "https://localhost:8080/"
        },
        "id": "cqH-0Wb8xEnI",
        "outputId": "887ad5f7-0c26-4ae0-c5d4-f885814583ed"
      },
      "outputs": [
        {
          "output_type": "execute_result",
          "data": {
            "text/plain": [
              "[2, 3, 5, 7, 11, 13, 17, 19, 23, 29, 31, 37, 41, 43, 47, 53, 59, 61, 67]"
            ]
          },
          "metadata": {},
          "execution_count": 33
        }
      ],
      "source": [
        "from primesieve import primes # after installing primesieve\n",
        "list(primes(70))"
      ]
    },
    {
      "cell_type": "code",
      "source": [
        "%timeit primes(1000)"
      ],
      "metadata": {
        "colab": {
          "base_uri": "https://localhost:8080/"
        },
        "id": "Q3YKQyrT_Xwo",
        "outputId": "37ee9c23-e705-4cde-878c-9980c6abac5d"
      },
      "execution_count": null,
      "outputs": [
        {
          "output_type": "stream",
          "name": "stdout",
          "text": [
            "3.24 µs ± 1.16 µs per loop (mean ± std. dev. of 7 runs, 100000 loops each)\n"
          ]
        }
      ]
    },
    {
      "cell_type": "code",
      "source": [
        "%timeit list(prime_numbers(1000))"
      ],
      "metadata": {
        "colab": {
          "base_uri": "https://localhost:8080/"
        },
        "id": "OIx6NmSY_fvw",
        "outputId": "70c478a2-afaf-427c-fad1-4f61f48d78e7"
      },
      "execution_count": null,
      "outputs": [
        {
          "output_type": "stream",
          "name": "stdout",
          "text": [
            "1.89 ms ± 361 µs per loop (mean ± std. dev. of 7 runs, 1000 loops each)\n"
          ]
        }
      ]
    },
    {
      "cell_type": "code",
      "source": [
        "#Theorem 1. A number F is a Fibonacci number if and only if 5F2 + 4 or 5F2 − 4 is a perfect\n",
        "#square.\n"
      ],
      "metadata": {
        "id": "q8hsahKo_skY"
      },
      "execution_count": null,
      "outputs": []
    },
    {
      "cell_type": "code",
      "source": [
        "import primesieve, math\n",
        "def is_square(n):\n",
        "   s = int(math.sqrt(n))\n",
        "   return s*s == n\n",
        "it = primesieve.Iterator()\n",
        "it.skipto(2**28-1)\n",
        "p = it.next_prime()\n",
        "while p < 2**30-1:\n",
        "    if is_square(5*p*p+4) or is_square(5*p*p-4):\n",
        "        print('¡¡ Got one !! ', p, 'is a Fibonacci prime!')\n",
        "    p = it.next_prime()\n"
      ],
      "metadata": {
        "colab": {
          "base_uri": "https://localhost:8080/"
        },
        "id": "B0SAVBGn_6hq",
        "outputId": "e18f543b-edad-4631-feaa-c4a838a48df8"
      },
      "execution_count": null,
      "outputs": [
        {
          "output_type": "stream",
          "name": "stdout",
          "text": [
            "¡¡ Got one !!  433494437 is a Fibonacci prime!\n"
          ]
        }
      ]
    },
    {
      "cell_type": "code",
      "source": [],
      "metadata": {
        "id": "zB1R6UQFDHCi"
      },
      "execution_count": null,
      "outputs": []
    }
  ],
  "metadata": {
    "colab": {
      "provenance": [],
      "include_colab_link": true
    },
    "kernelspec": {
      "display_name": "Python 3",
      "name": "python3"
    },
    "language_info": {
      "name": "python"
    }
  },
  "nbformat": 4,
  "nbformat_minor": 0
}