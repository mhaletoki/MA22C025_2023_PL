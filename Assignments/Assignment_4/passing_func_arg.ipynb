{
  "nbformat": 4,
  "nbformat_minor": 0,
  "metadata": {
    "colab": {
      "provenance": [],
      "authorship_tag": "ABX9TyNBuLstHB4SH8oXLATFQ88T",
      "include_colab_link": true
    },
    "kernelspec": {
      "name": "python3",
      "display_name": "Python 3"
    },
    "language_info": {
      "name": "python"
    }
  },
  "cells": [
    {
      "cell_type": "markdown",
      "metadata": {
        "id": "view-in-github",
        "colab_type": "text"
      },
      "source": [
        "<a href=\"https://colab.research.google.com/github/mhaletoki/MA22C025_2023_PL/blob/main/Assignments/Assignment_4/passing_func_arg.ipynb\" target=\"_parent\"><img src=\"https://colab.research.google.com/assets/colab-badge.svg\" alt=\"Open In Colab\"/></a>"
      ]
    },
    {
      "cell_type": "code",
      "execution_count": null,
      "metadata": {
        "id": "t5V4ZesbdQYl"
      },
      "outputs": [],
      "source": [
        "def twice(w): # we want to see the usage of this function on Numpy and Strings and note their differences\n",
        "  \"\"\"Replace w by 2*w\"\"\"\n",
        "  w*=2"
      ]
    },
    {
      "cell_type": "code",
      "source": [
        "import numpy as np\n",
        "\n",
        "v = np.array([2, 5, 1])\n",
        "twice(v)\n",
        "\n",
        "print(v)  # The original array has been modified\n"
      ],
      "metadata": {
        "colab": {
          "base_uri": "https://localhost:8080/"
        },
        "id": "7E2ir9GceFHR",
        "outputId": "33dde075-c66c-49cd-bb84-662d06a9b742"
      },
      "execution_count": null,
      "outputs": [
        {
          "output_type": "stream",
          "name": "stdout",
          "text": [
            "[ 4 10  2]\n"
          ]
        }
      ]
    },
    {
      "cell_type": "code",
      "source": [
        "#when you pass a NumPy array to the twice function, it is passed by reference, and\n",
        "# modifications affect the original object."
      ],
      "metadata": {
        "id": "IidEc-R3eq3V"
      },
      "execution_count": null,
      "outputs": []
    },
    {
      "cell_type": "code",
      "source": [
        "#consider the same input for string\n",
        "v = \"251\"\n",
        "twice(v)\n",
        "\n",
        "print(v)  # The original string remains unchanged\n"
      ],
      "metadata": {
        "colab": {
          "base_uri": "https://localhost:8080/"
        },
        "id": "rX0dlYABfIZa",
        "outputId": "7dd05c56-6301-4bcd-a5f6-cc9c7a1b77e5"
      },
      "execution_count": null,
      "outputs": [
        {
          "output_type": "stream",
          "name": "stdout",
          "text": [
            "251\n"
          ]
        }
      ]
    },
    {
      "cell_type": "code",
      "source": [
        "#he original string v remains unchanged, and the modification made\n",
        "# inside the \"twice\" function does not affect it.\n"
      ],
      "metadata": {
        "id": "J4cAR2wKfaWR"
      },
      "execution_count": null,
      "outputs": []
    },
    {
      "cell_type": "code",
      "source": [
        "#we conclude that NumPy arrays are \"mutable\" whereas strings are \"immutable\""
      ],
      "metadata": {
        "id": "oD0CWOTCfL-w"
      },
      "execution_count": null,
      "outputs": []
    },
    {
      "cell_type": "code",
      "source": [],
      "metadata": {
        "id": "xVcjWFjNgGZP"
      },
      "execution_count": null,
      "outputs": []
    }
  ]
}