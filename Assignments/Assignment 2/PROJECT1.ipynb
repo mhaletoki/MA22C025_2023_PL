{
  "nbformat": 4,
  "nbformat_minor": 0,
  "metadata": {
    "colab": {
      "provenance": [],
      "authorship_tag": "ABX9TyPAdfhERUpIgCjqNQmkysc+",
      "include_colab_link": true
    },
    "kernelspec": {
      "name": "python3",
      "display_name": "Python 3"
    },
    "language_info": {
      "name": "python"
    }
  },
  "cells": [
    {
      "cell_type": "markdown",
      "metadata": {
        "id": "view-in-github",
        "colab_type": "text"
      },
      "source": [
        "<a href=\"https://colab.research.google.com/github/mhaletoki/MA22C025_2023_PL/blob/main/Assignments/Assignment%202/PROJECT1.ipynb\" target=\"_parent\"><img src=\"https://colab.research.google.com/assets/colab-badge.svg\" alt=\"Open In Colab\"/></a>"
      ]
    },
    {
      "cell_type": "code",
      "execution_count": 14,
      "metadata": {
        "id": "Wx7zFsKCG0ex"
      },
      "outputs": [],
      "source": [
        "import math\n"
      ]
    },
    {
      "cell_type": "code",
      "source": [
        "def bisection_method(func,a,b,eps,niters):\n",
        "  if func(a)*func(b)>=0:\n",
        "    print(\"try for different values of a and b\")\n",
        "\n",
        "\n",
        "  count=0\n",
        "  while func(a)*func(b)<0 and count<niters and abs(b-a)>eps:\n",
        "    # the root finding proccess starts here\n",
        "      c=(a+b)/2\n",
        "      if func(c)==0:\n",
        "        print(\"try for different values of a and b\")\n",
        "      elif func(a)*func(c)>0:\n",
        "        a=c\n",
        "      else:\n",
        "        b=c\n",
        "      count+=1\n",
        "  print(\"the root of the function is found at\",c)\n",
        "  print('number of performed iterations',count)\n",
        "\n",
        "\n",
        "\n",
        "\n"
      ],
      "metadata": {
        "id": "1cukhHQZG4F4"
      },
      "execution_count": 23,
      "outputs": []
    },
    {
      "cell_type": "code",
      "source": [
        "def func(x):\n",
        "  return x-1-math.cos(x)"
      ],
      "metadata": {
        "id": "tC_W5hngG-im"
      },
      "execution_count": 22,
      "outputs": []
    },
    {
      "cell_type": "code",
      "source": [
        "a=float(input(\"enter the lower bound\"))\n",
        "b=float(input(\"enter the upper bound\"))\n",
        "eps=float(input(\"error tolerance\"))\n",
        "niters=int(input(\"total no of iteration\"))\n",
        "bisection_method(func,a,b,eps,niters)"
      ],
      "metadata": {
        "colab": {
          "base_uri": "https://localhost:8080/"
        },
        "id": "tWcZ31qSHCi4",
        "outputId": "43a84eef-696f-4428-fd68-ffd88ab6428e"
      },
      "execution_count": 24,
      "outputs": [
        {
          "output_type": "stream",
          "name": "stdout",
          "text": [
            "enter the lower bound-1\n",
            "enter the upper bound10\n",
            "error tolerance1e-10\n",
            "total no of iteration100\n",
            "the root of the function is found at 1.2834287417426822\n",
            "number of performed iterations 37\n"
          ]
        }
      ]
    }
  ]
}