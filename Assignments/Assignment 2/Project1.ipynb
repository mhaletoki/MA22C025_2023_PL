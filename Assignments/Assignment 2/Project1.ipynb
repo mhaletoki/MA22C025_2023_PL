{
  "cells": [
    {
      "cell_type": "markdown",
      "metadata": {
        "id": "view-in-github",
        "colab_type": "text"
      },
      "source": [
        "<a href=\"https://colab.research.google.com/github/mhaletoki/MA22C025_2023_PL/blob/main/Assignments/Assignment%202/Project1.ipynb\" target=\"_parent\"><img src=\"https://colab.research.google.com/assets/colab-badge.svg\" alt=\"Open In Colab\"/></a>"
      ]
    },
    {
      "cell_type": "code",
      "execution_count": 17,
      "metadata": {
        "id": "nznzM4F6kHKD"
      },
      "outputs": [],
      "source": [
        "import math"
      ]
    },
    {
      "cell_type": "code",
      "execution_count": 16,
      "metadata": {
        "id": "Nh1Iv_MntWxC"
      },
      "outputs": [],
      "source": [
        "def bisection_method(func,a,b,eps,niters):\n",
        "  \"\"\"The root of the function is found at x=\"\"\" #docstring\n",
        "  if func(a)*func(b)>=0:\n",
        "    print(\"try for different values of a and b\")\n",
        "\n",
        "\n",
        "  count=0\n",
        "  while func(a)*func(b)<0 and count<niters and abs(b-a)>eps:# the root finding proccess starts here\n",
        "    c=(a+b)/2\n",
        "    if func(c)==0:\n",
        "      print(\"try for different values of a and b\")\n",
        "    elif func(a)*func(c)>0:\n",
        "      a=c\n",
        "    else:\n",
        "      b=c\n",
        "    count+=1\n",
        "  print(bisection_method.__doc__,c)\n",
        "  print('number of performed iterations',count)\n",
        "\n",
        "\n",
        "\n",
        "\n"
      ]
    },
    {
      "cell_type": "code",
      "execution_count": 18,
      "metadata": {
        "id": "gbmdT-0XtnNZ"
      },
      "outputs": [],
      "source": [
        "def func(x):\n",
        "  return x-1-math.cos(x)"
      ]
    },
    {
      "cell_type": "code",
      "execution_count": 19,
      "metadata": {
        "colab": {
          "base_uri": "https://localhost:8080/"
        },
        "id": "k3o_0Gp6tsuQ",
        "outputId": "c98549aa-91c3-4716-bc14-812c42529d38"
      },
      "outputs": [
        {
          "output_type": "stream",
          "name": "stdout",
          "text": [
            "enter the lower bound-2\n",
            "enter the upper bound10\n",
            "error tolerance1e-14\n",
            "total no of iteration100\n",
            "The root of the function is found at x= 1.2834287417457642\n",
            "number of performed iterations 51\n"
          ]
        }
      ],
      "source": [
        "a=float(input(\"enter the lower bound\"))\n",
        "b=float(input(\"enter the upper bound\"))\n",
        "eps=float(input(\"error tolerance\"))\n",
        "niters=int(input(\"total no of iteration\"))\n",
        "bisection_method(func,a,b,eps,niters)"
      ]
    }
  ],
  "metadata": {
    "colab": {
      "provenance": [],
      "authorship_tag": "ABX9TyM8Sm+L4WI6g+dz+sYy0RkY",
      "include_colab_link": true
    },
    "kernelspec": {
      "display_name": "Python 3",
      "name": "python3"
    },
    "language_info": {
      "name": "python"
    }
  },
  "nbformat": 4,
  "nbformat_minor": 0
}