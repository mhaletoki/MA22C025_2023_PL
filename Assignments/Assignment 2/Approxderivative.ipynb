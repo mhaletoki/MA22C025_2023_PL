{
  "nbformat": 4,
  "nbformat_minor": 0,
  "metadata": {
    "colab": {
      "provenance": []
    },
    "kernelspec": {
      "name": "python3",
      "display_name": "Python 3"
    },
    "language_info": {
      "name": "python"
    }
  },
  "cells": [
    {
      "cell_type": "code",
      "execution_count": null,
      "metadata": {
        "id": "OJbAPNZM8Fin"
      },
      "outputs": [],
      "source": [
        "def D2(f, x, h=1E-6):#Central Difference Formula for the second derivative\n",
        "  return (f(x-h) - 2*f(x) + f(x+h)) / (h*h)"
      ]
    },
    {
      "cell_type": "code",
      "source": [
        "from math import sin\n",
        "D2(sin, 0.2)"
      ],
      "metadata": {
        "colab": {
          "base_uri": "https://localhost:8080/"
        },
        "id": "x2YPhuU7_le_",
        "outputId": "c75116d9-08ee-43a5-fe63-856bd31d1a8a"
      },
      "execution_count": null,
      "outputs": [
        {
          "output_type": "execute_result",
          "data": {
            "text/plain": [
              "-0.19864665468105613"
            ]
          },
          "metadata": {},
          "execution_count": 3
        }
      ]
    },
    {
      "cell_type": "code",
      "source": [
        "-sin(0.2)"
      ],
      "metadata": {
        "colab": {
          "base_uri": "https://localhost:8080/"
        },
        "id": "jvbbLheKAGq0",
        "outputId": "91d0377e-ea5d-4432-e628-d44cd111dd3e"
      },
      "execution_count": null,
      "outputs": [
        {
          "output_type": "execute_result",
          "data": {
            "text/plain": [
              "-0.19866933079506122"
            ]
          },
          "metadata": {},
          "execution_count": 5
        }
      ]
    },
    {
      "cell_type": "code",
      "source": [
        "def g(x): # we define a function that return sin(2*x) and then pass it to D2\n",
        "  return sin(2*x)\n",
        "D2(g, 0.2)"
      ],
      "metadata": {
        "colab": {
          "base_uri": "https://localhost:8080/"
        },
        "id": "bAP78OgIANc7",
        "outputId": "1bd7f832-d1b4-4abc-a63e-6a6c8659190a"
      },
      "execution_count": null,
      "outputs": [
        {
          "output_type": "execute_result",
          "data": {
            "text/plain": [
              "-1.5576429035490946"
            ]
          },
          "metadata": {},
          "execution_count": 6
        }
      ]
    },
    {
      "cell_type": "code",
      "source": [
        " D2(lambda x: sin(2*x), 0.2) # central diff approximation\n"
      ],
      "metadata": {
        "colab": {
          "base_uri": "https://localhost:8080/"
        },
        "id": "0kl6jgqgAsgd",
        "outputId": "48d4f3e6-808a-434f-923c-bb93f5a0f22b"
      },
      "execution_count": null,
      "outputs": [
        {
          "output_type": "execute_result",
          "data": {
            "text/plain": [
              "-1.5576429035490946"
            ]
          },
          "metadata": {},
          "execution_count": 7
        }
      ]
    },
    {
      "cell_type": "code",
      "source": [
        "-4*sin(2* 0.2) # -4*sin(2* 0.2) # actual 2nd derivative value"
      ],
      "metadata": {
        "colab": {
          "base_uri": "https://localhost:8080/"
        },
        "id": "6hD4s0mwBGxy",
        "outputId": "77f4f6d1-81bf-491c-b721-825d3c19a256"
      },
      "execution_count": null,
      "outputs": [
        {
          "output_type": "execute_result",
          "data": {
            "text/plain": [
              "-1.557673369234602"
            ]
          },
          "metadata": {},
          "execution_count": 8
        }
      ]
    },
    {
      "cell_type": "code",
      "source": [
        "print(' h D2 Result Error') #we subtract this exact derivative from the computed derivative\n",
        "#approximation to obtain the error\n",
        "for k in range(4,8):\n",
        "  h = 2**(-k)\n",
        "  d2g = D2(lambda x: x**-6, 1, h=h)\n",
        "  e = d2g - 42\n",
        "  print('%.0e %.5f %7.6f' %(h, d2g, e))"
      ],
      "metadata": {
        "colab": {
          "base_uri": "https://localhost:8080/"
        },
        "id": "84_VxcPHBXdf",
        "outputId": "e3ac2c81-6217-44e3-c1ae-ad1df81f5cad"
      },
      "execution_count": null,
      "outputs": [
        {
          "output_type": "stream",
          "name": "stdout",
          "text": [
            " h D2 Result Error\n",
            "6e-02 42.99863 0.998629\n",
            "3e-02 42.24698 0.246977\n",
            "2e-02 42.06158 0.061579\n",
            "8e-03 42.01538 0.015384\n"
          ]
        }
      ]
    },
    {
      "cell_type": "code",
      "source": [
        "for k in range(1,14): #Instead of halving h,we reduce h by a factor of 10, going down to 10−13\n",
        "  h = 10**(-k)\n",
        "  d2g = D2(lambda x: x**-6,1, h)\n",
        "  print('%.0e %18.5f' %(h, d2g))"
      ],
      "metadata": {
        "colab": {
          "base_uri": "https://localhost:8080/"
        },
        "id": "hHgvpTYeCHGs",
        "outputId": "09880708-2bf8-4dae-dc8b-7c329135f61f"
      },
      "execution_count": null,
      "outputs": [
        {
          "output_type": "stream",
          "name": "stdout",
          "text": [
            "1e-01           44.61504\n",
            "1e-02           42.02521\n",
            "1e-03           42.00025\n",
            "1e-04           42.00000\n",
            "1e-05           41.99999\n",
            "1e-06           42.00074\n",
            "1e-07           41.94423\n",
            "1e-08           47.73959\n",
            "1e-09         -666.13381\n",
            "1e-10            0.00000\n",
            "1e-11            0.00000\n",
            "1e-12   -666133814.77509\n",
            "1e-13  66613381477.50939\n"
          ]
        }
      ]
    }
  ]
}