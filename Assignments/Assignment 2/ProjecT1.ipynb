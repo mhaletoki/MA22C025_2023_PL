{
  "nbformat": 4,
  "nbformat_minor": 0,
  "metadata": {
    "colab": {
      "provenance": [],
      "authorship_tag": "ABX9TyPIU5PspwhtRISUvwDNd9UL",
      "include_colab_link": true
    },
    "kernelspec": {
      "name": "python3",
      "display_name": "Python 3"
    },
    "language_info": {
      "name": "python"
    }
  },
  "cells": [
    {
      "cell_type": "markdown",
      "metadata": {
        "id": "view-in-github",
        "colab_type": "text"
      },
      "source": [
        "<a href=\"https://colab.research.google.com/github/mhaletoki/MA22C025_2023_PL/blob/main/Assignments/Assignment%202/ProjecT1.ipynb\" target=\"_parent\"><img src=\"https://colab.research.google.com/assets/colab-badge.svg\" alt=\"Open In Colab\"/></a>"
      ]
    },
    {
      "cell_type": "code",
      "execution_count": 1,
      "metadata": {
        "id": "wDrOWb22cuwu"
      },
      "outputs": [],
      "source": [
        "import math\n"
      ]
    },
    {
      "cell_type": "code",
      "source": [
        "def bisection_method(func,a,b,eps,niters):\n",
        "  \"\"\"The root of the function is found at x=\"\"\" #docstring\n",
        "  if func(a)*func(b)>=0:\n",
        "    print(\"try for different values of a and b\")\n",
        "\n",
        "\n",
        "  count=0\n",
        "  while func(a)*func(b)<=0 and abs(b-a)>eps:\n",
        "    # the root finding proccess starts here\n",
        "      c=(a+b)/2\n",
        "      if func(c)==0:\n",
        "        print(\"try for different values of a and b\")\n",
        "      elif func(a)*func(c)>0:\n",
        "        a=c\n",
        "      else:\n",
        "        b=c\n",
        "      count+=1\n",
        "\n",
        "  print(bisection_method.__doc__,c)\n",
        "\n",
        "\n",
        "\n",
        "\n"
      ],
      "metadata": {
        "id": "KRMH36UWcz7O"
      },
      "execution_count": 22,
      "outputs": []
    },
    {
      "cell_type": "code",
      "source": [
        "def func(x):\n",
        "  return x-1-math.cos(x)"
      ],
      "metadata": {
        "id": "dW9brz7hc5OE"
      },
      "execution_count": 4,
      "outputs": []
    },
    {
      "cell_type": "code",
      "source": [
        "a=float(input(\"enter the lower bound\"))\n",
        "b=float(input(\"enter the upper bound\"))\n",
        "eps=float(input(\"error tolerance\"))\n",
        "niters=int(input(\"total no of iteration\"))\n",
        "bisection_method(func,a,b,eps,niters)"
      ],
      "metadata": {
        "colab": {
          "base_uri": "https://localhost:8080/"
        },
        "id": "LX8lRQrlc_Fn",
        "outputId": "eca1b19a-6828-4601-b31d-3a9f94c48fca"
      },
      "execution_count": 23,
      "outputs": [
        {
          "output_type": "stream",
          "name": "stdout",
          "text": [
            "enter the lower bound-1\n",
            "enter the upper bound10\n",
            "error tolerance1e-10\n",
            "total no of iteration100\n",
            "The root of the function is found at x= 1.2834287417426822\n"
          ]
        }
      ]
    }
  ]
}