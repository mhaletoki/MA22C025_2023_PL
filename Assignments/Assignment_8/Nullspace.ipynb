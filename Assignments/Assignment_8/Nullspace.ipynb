{
  "nbformat": 4,
  "nbformat_minor": 0,
  "metadata": {
    "colab": {
      "provenance": [],
      "authorship_tag": "ABX9TyPRI5wNHqNUK8NEMmPaQOvh",
      "include_colab_link": true
    },
    "kernelspec": {
      "name": "python3",
      "display_name": "Python 3"
    },
    "language_info": {
      "name": "python"
    }
  },
  "cells": [
    {
      "cell_type": "markdown",
      "metadata": {
        "id": "view-in-github",
        "colab_type": "text"
      },
      "source": [
        "<a href=\"https://colab.research.google.com/github/mhaletoki/MA22C025_2023_PL/blob/main/Assignments/Assignment_8/Nullspace.ipynb\" target=\"_parent\"><img src=\"https://colab.research.google.com/assets/colab-badge.svg\" alt=\"Open In Colab\"/></a>"
      ]
    },
    {
      "cell_type": "code",
      "source": [
        "import numpy as np\n",
        "from scipy.linalg import svd, qr\n",
        "A = np.array([[1, -2, 9, 5, 4,], [1, -1, 6, 5, -3], [-2, 0, -6, 1, -2],[4, 1, 9, 1, -9]])\n",
        "A"
      ],
      "metadata": {
        "colab": {
          "base_uri": "https://localhost:8080/"
        },
        "id": "idCPnOt6Dhc1",
        "outputId": "42cff015-8487-4079-e2f0-835973262f11"
      },
      "execution_count": 2,
      "outputs": [
        {
          "output_type": "execute_result",
          "data": {
            "text/plain": [
              "array([[ 1, -2,  9,  5,  4],\n",
              "       [ 1, -1,  6,  5, -3],\n",
              "       [-2,  0, -6,  1, -2],\n",
              "       [ 4,  1,  9,  1, -9]])"
            ]
          },
          "metadata": {},
          "execution_count": 2
        }
      ]
    },
    {
      "cell_type": "code",
      "source": [
        "np.linalg.matrix_rank(A)"
      ],
      "metadata": {
        "colab": {
          "base_uri": "https://localhost:8080/"
        },
        "id": "xehEli-HrZ4j",
        "outputId": "9f77e9e0-36fc-4763-da62-57f5e8e6aa9b"
      },
      "execution_count": 3,
      "outputs": [
        {
          "output_type": "execute_result",
          "data": {
            "text/plain": [
              "3"
            ]
          },
          "metadata": {},
          "execution_count": 3
        }
      ]
    },
    {
      "cell_type": "code",
      "source": [
        "S,V,D=svd(A)"
      ],
      "metadata": {
        "id": "1P0FerC8rZ1E"
      },
      "execution_count": 19,
      "outputs": []
    },
    {
      "cell_type": "code",
      "source": [
        "V"
      ],
      "metadata": {
        "colab": {
          "base_uri": "https://localhost:8080/"
        },
        "id": "YluB21pCrZye",
        "outputId": "6e0ec389-356c-4bef-c19c-5eb2da84f311"
      },
      "execution_count": 20,
      "outputs": [
        {
          "output_type": "execute_result",
          "data": {
            "text/plain": [
              "array([1.72083086e+01, 1.01450209e+01, 4.99526437e+00, 9.56282692e-16])"
            ]
          },
          "metadata": {},
          "execution_count": 20
        }
      ]
    },
    {
      "cell_type": "code",
      "source": [
        "D.T"
      ],
      "metadata": {
        "colab": {
          "base_uri": "https://localhost:8080/"
        },
        "id": "Ye4BKjCBrZvS",
        "outputId": "b853736d-07a5-4e3e-b49b-07147004f053"
      },
      "execution_count": 21,
      "outputs": [
        {
          "output_type": "execute_result",
          "data": {
            "text/plain": [
              "array([[ 0.24638127, -0.12991821,  0.3027347 , -0.87219483,  0.26466093],\n",
              "       [-0.04503456, -0.20626881,  0.2022255 ,  0.3573579 ,  0.8870317 ],\n",
              "       [ 0.8742475 ,  0.22905181,  0.3015276 ,  0.29073161, -0.08822031],\n",
              "       [ 0.30107333,  0.27058334, -0.84037193, -0.14709627,  0.32905504],\n",
              "       [-0.28690474,  0.90271499,  0.26516538, -0.07354813,  0.16452752]])"
            ]
          },
          "metadata": {},
          "execution_count": 21
        }
      ]
    },
    {
      "cell_type": "code",
      "source": [
        "S"
      ],
      "metadata": {
        "colab": {
          "base_uri": "https://localhost:8080/"
        },
        "id": "X8mJZgVJxEN7",
        "outputId": "bf7a657b-888d-48fc-8a8f-101b204cf672"
      },
      "execution_count": 32,
      "outputs": [
        {
          "output_type": "execute_result",
          "data": {
            "text/plain": [
              "array([[ 0.49757508,  0.7203398 , -0.10593353,  0.47149517],\n",
              "       [ 0.45925383,  0.0094069 , -0.61812163, -0.63790523],\n",
              "       [-0.28261724, -0.26114496, -0.75778526,  0.52696519],\n",
              "       [ 0.67943539, -0.64251489,  0.18018112,  0.30508511]])"
            ]
          },
          "metadata": {},
          "execution_count": 32
        }
      ]
    },
    {
      "cell_type": "code",
      "source": [
        "u1,R1 = qr(A)"
      ],
      "metadata": {
        "id": "IyGEhEF6rZtm"
      },
      "execution_count": 34,
      "outputs": []
    },
    {
      "cell_type": "code",
      "source": [
        "u,R1=qr(A.T)"
      ],
      "metadata": {
        "id": "54K7sxDTrZsC"
      },
      "execution_count": 35,
      "outputs": []
    },
    {
      "cell_type": "code",
      "source": [
        "u"
      ],
      "metadata": {
        "colab": {
          "base_uri": "https://localhost:8080/"
        },
        "id": "ddLGAyedxt9z",
        "outputId": "309c4d2e-4c15-4b47-ffa0-bf7ea1b433f5"
      },
      "execution_count": 36,
      "outputs": [
        {
          "output_type": "execute_result",
          "data": {
            "text/plain": [
              "array([[-0.08873565, -0.07763996, -0.39411774,  0.57324869, -0.70862908],\n",
              "       [ 0.1774713 , -0.01770736, -0.2316473 ,  0.68751498,  0.6647203 ],\n",
              "       [-0.79862086, -0.1797978 , -0.48741131, -0.1910829 ,  0.23620969],\n",
              "       [-0.44367825, -0.3881998 ,  0.72286651,  0.36021819, -0.01254537],\n",
              "       [-0.3549426 ,  0.90035112,  0.17579809,  0.18010909, -0.00627268]])"
            ]
          },
          "metadata": {},
          "execution_count": 36
        }
      ]
    },
    {
      "cell_type": "code",
      "source": [
        "R1"
      ],
      "metadata": {
        "colab": {
          "base_uri": "https://localhost:8080/"
        },
        "id": "9bcm6TbWrZqW",
        "outputId": "05d2f82e-4011-4c95-f1df-5bf2c711f5cf"
      },
      "execution_count": 24,
      "outputs": [
        {
          "output_type": "execute_result",
          "data": {
            "text/plain": [
              "array([[-1.12694277e+01, -6.21149557e+00,  5.23540341e+00,\n",
              "        -4.61425385e+00],\n",
              "       [ 0.00000000e+00, -5.78077182e+00, -9.54835308e-01,\n",
              "        -1.04378074e+01],\n",
              "       [ 0.00000000e+00,  0.00000000e+00,  4.08397364e+00,\n",
              "        -7.05413629e+00],\n",
              "       [ 0.00000000e+00,  0.00000000e+00,  0.00000000e+00,\n",
              "         2.39728491e-15],\n",
              "       [ 0.00000000e+00,  0.00000000e+00,  0.00000000e+00,\n",
              "         0.00000000e+00]])"
            ]
          },
          "metadata": {},
          "execution_count": 24
        }
      ]
    },
    {
      "cell_type": "code",
      "source": [
        "checknull=np.array([[ 0.30107333,  0.27058334, -0.84037193, -0.14709627,  0.32905504],\n",
        "       [-0.28690474,  0.90271499,  0.26516538, -0.07354813,  0.16452752],[-0.44367825, -0.3881998 ,  0.72286651,  0.36021819, -0.01254537],\n",
        "       [-0.3549426 ,  0.90035112,  0.17579809,  0.18010909, -0.00627268]])"
      ],
      "metadata": {
        "id": "U-Mn1FYUyKgG"
      },
      "execution_count": 40,
      "outputs": []
    },
    {
      "cell_type": "code",
      "source": [
        "np.linalg.matrix_rank(checknull)"
      ],
      "metadata": {
        "colab": {
          "base_uri": "https://localhost:8080/"
        },
        "id": "XZpWBN_vyKcp",
        "outputId": "bbb5b1c7-316d-451d-8bc9-ef1644ce8755"
      },
      "execution_count": 41,
      "outputs": [
        {
          "output_type": "execute_result",
          "data": {
            "text/plain": [
              "4"
            ]
          },
          "metadata": {},
          "execution_count": 41
        }
      ]
    },
    {
      "cell_type": "markdown",
      "source": [
        "*Not same as rank is 4*"
      ],
      "metadata": {
        "id": "PlCvme3_zp_O"
      }
    },
    {
      "cell_type": "code",
      "source": [],
      "metadata": {
        "id": "UrOFwNE3z0C8"
      },
      "execution_count": null,
      "outputs": []
    }
  ]
}