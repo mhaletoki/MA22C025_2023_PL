{
  "nbformat": 4,
  "nbformat_minor": 0,
  "metadata": {
    "colab": {
      "provenance": [],
      "authorship_tag": "ABX9TyPBa3d62fGuwhj4K42K84/i",
      "include_colab_link": true
    },
    "kernelspec": {
      "name": "python3",
      "display_name": "Python 3"
    },
    "language_info": {
      "name": "python"
    }
  },
  "cells": [
    {
      "cell_type": "markdown",
      "metadata": {
        "id": "view-in-github",
        "colab_type": "text"
      },
      "source": [
        "<a href=\"https://colab.research.google.com/github/mhaletoki/MA22C025_2023_PL/blob/main/Assignments/Assignment_8/Colspace.ipynb\" target=\"_parent\"><img src=\"https://colab.research.google.com/assets/colab-badge.svg\" alt=\"Open In Colab\"/></a>"
      ]
    },
    {
      "cell_type": "code",
      "execution_count": 1,
      "metadata": {
        "id": "B8rx6L8XAZLL"
      },
      "outputs": [],
      "source": [
        "import numpy as np\n",
        "from scipy.linalg import svd, qr\n",
        "A = np.array([[1, -2, 3, -3], [2, -4, 9, -2], [-3, 6, -9, 9]])"
      ]
    },
    {
      "cell_type": "markdown",
      "source": [
        "**Basis of the column space by SVD**"
      ],
      "metadata": {
        "id": "-IVnrJcYwy5F"
      }
    },
    {
      "cell_type": "code",
      "source": [
        "U, S, VT = np.linalg.svd(A)"
      ],
      "metadata": {
        "id": "OypVoH0XhRWW"
      },
      "execution_count": 2,
      "outputs": []
    },
    {
      "cell_type": "code",
      "source": [
        "U"
      ],
      "metadata": {
        "colab": {
          "base_uri": "https://localhost:8080/"
        },
        "id": "_coVXaNthaf1",
        "outputId": "0c067e27-cced-438d-e21c-f18bbab05c19"
      },
      "execution_count": 3,
      "outputs": [
        {
          "output_type": "execute_result",
          "data": {
            "text/plain": [
              "array([[-2.66235859e-01, -1.70641342e-01,  9.48683298e-01],\n",
              "       [-5.39615303e-01,  8.41911709e-01, -5.55111512e-17],\n",
              "       [ 7.98707576e-01,  5.11924025e-01,  3.16227766e-01]])"
            ]
          },
          "metadata": {},
          "execution_count": 3
        }
      ]
    },
    {
      "cell_type": "code",
      "source": [
        "S"
      ],
      "metadata": {
        "colab": {
          "base_uri": "https://localhost:8080/"
        },
        "id": "ee-mEMWchcQ1",
        "outputId": "6a6d9910-767f-44b4-c090-e1d647ac6a7b"
      },
      "execution_count": 4,
      "outputs": [
        {
          "output_type": "execute_result",
          "data": {
            "text/plain": [
              "array([1.78088115e+01, 4.22448020e+00, 3.71370969e-16])"
            ]
          },
          "metadata": {},
          "execution_count": 4
        }
      ]
    },
    {
      "cell_type": "code",
      "source": [
        "VT"
      ],
      "metadata": {
        "colab": {
          "base_uri": "https://localhost:8080/"
        },
        "id": "7mGTdHR7hgFm",
        "outputId": "7fadf266-9407-4baf-fa66-64ba5744a888"
      },
      "execution_count": 5,
      "outputs": [
        {
          "output_type": "execute_result",
          "data": {
            "text/plain": [
              "array([[-0.21009764,  0.42019527, -0.72119431,  0.50909104],\n",
              "       [-0.0053474 ,  0.01069481,  0.58183848,  0.81321646],\n",
              "       [-0.24209024, -0.89711712, -0.29564648,  0.22173486],\n",
              "       [ 0.9472184 , -0.13602362, -0.23224108,  0.17418081]])"
            ]
          },
          "metadata": {},
          "execution_count": 5
        }
      ]
    },
    {
      "cell_type": "code",
      "source": [
        "rank = np.sum(S > 1e-5)\n",
        "column_basis = U[:, :rank]\n"
      ],
      "metadata": {
        "id": "FYEpiJf-l09U"
      },
      "execution_count": 6,
      "outputs": []
    },
    {
      "cell_type": "code",
      "source": [
        "dimension = rank"
      ],
      "metadata": {
        "id": "qIwtfDi8s2Q4"
      },
      "execution_count": 7,
      "outputs": []
    },
    {
      "cell_type": "code",
      "source": [
        "print(\"Column Basis:\")\n",
        "print(column_basis)\n"
      ],
      "metadata": {
        "colab": {
          "base_uri": "https://localhost:8080/"
        },
        "id": "yYd8PWdjsuYT",
        "outputId": "fcdb1e82-2200-4862-ad05-0e05080729e6"
      },
      "execution_count": 8,
      "outputs": [
        {
          "output_type": "stream",
          "name": "stdout",
          "text": [
            "Column Basis:\n",
            "[[-0.26623586 -0.17064134]\n",
            " [-0.5396153   0.84191171]\n",
            " [ 0.79870758  0.51192403]]\n"
          ]
        }
      ]
    },
    {
      "cell_type": "code",
      "source": [
        "print(\"Dimension of A=\",dimension)"
      ],
      "metadata": {
        "colab": {
          "base_uri": "https://localhost:8080/"
        },
        "id": "mbMjZnZ3s4yG",
        "outputId": "c83c601c-07e3-404c-fb6d-84126ef5703a"
      },
      "execution_count": 9,
      "outputs": [
        {
          "output_type": "stream",
          "name": "stdout",
          "text": [
            "Dimension of A= 2\n"
          ]
        }
      ]
    },
    {
      "cell_type": "markdown",
      "source": [
        "**Basis of the column space by QR Method**"
      ],
      "metadata": {
        "id": "JTyfnyq7w98Y"
      }
    },
    {
      "cell_type": "code",
      "source": [
        "Q,R=qr(A)"
      ],
      "metadata": {
        "id": "yPCfpwsNuFNe"
      },
      "execution_count": 10,
      "outputs": []
    },
    {
      "cell_type": "code",
      "source": [
        "Q"
      ],
      "metadata": {
        "colab": {
          "base_uri": "https://localhost:8080/"
        },
        "id": "FfvDzicQuRS6",
        "outputId": "185c965b-5a9a-46ca-b0f6-20d1e8a3f771"
      },
      "execution_count": 11,
      "outputs": [
        {
          "output_type": "execute_result",
          "data": {
            "text/plain": [
              "array([[-0.26726124,  0.95618289, -0.11952286],\n",
              "       [-0.53452248, -0.04390192,  0.84401323],\n",
              "       [ 0.80178373,  0.28945968,  0.52283453]])"
            ]
          },
          "metadata": {},
          "execution_count": 11
        }
      ]
    },
    {
      "cell_type": "code",
      "source": [
        "R"
      ],
      "metadata": {
        "colab": {
          "base_uri": "https://localhost:8080/"
        },
        "id": "h8HjM1YauRNX",
        "outputId": "b0fd710d-3f36-4367-c9ad-2a18711d15cc"
      },
      "execution_count": 12,
      "outputs": [
        {
          "output_type": "execute_result",
          "data": {
            "text/plain": [
              "array([[-3.74165739e+00,  7.48331477e+00, -1.28285396e+01,\n",
              "         9.08688223e+00],\n",
              "       [ 0.00000000e+00, -1.98602732e-15, -1.31705767e-01,\n",
              "        -1.75607689e-01],\n",
              "       [ 0.00000000e+00,  0.00000000e+00,  2.53203970e+00,\n",
              "         3.37605293e+00]])"
            ]
          },
          "metadata": {},
          "execution_count": 12
        }
      ]
    },
    {
      "cell_type": "code",
      "source": [
        "rank_A = np.linalg.matrix_rank(A)\n",
        "\n",
        "basis_columns = Q[:, :rank_A]\n",
        "\n"
      ],
      "metadata": {
        "id": "uu4SBxyZuRJ4"
      },
      "execution_count": 13,
      "outputs": []
    },
    {
      "cell_type": "code",
      "source": [
        "print(\"Basis for the column space of A:\")\n",
        "print(basis_columns)"
      ],
      "metadata": {
        "colab": {
          "base_uri": "https://localhost:8080/"
        },
        "id": "t-GIJOECwpHJ",
        "outputId": "41386918-d773-46d4-9de9-9e3d9d6899c7"
      },
      "execution_count": 14,
      "outputs": [
        {
          "output_type": "stream",
          "name": "stdout",
          "text": [
            "Basis for the column space of A:\n",
            "[[-0.26726124  0.95618289]\n",
            " [-0.53452248 -0.04390192]\n",
            " [ 0.80178373  0.28945968]]\n"
          ]
        }
      ]
    },
    {
      "cell_type": "code",
      "source": [
        "print(\"Rank of A=:\", rank_A)"
      ],
      "metadata": {
        "colab": {
          "base_uri": "https://localhost:8080/"
        },
        "id": "c_0wvHofuRHD",
        "outputId": "3db61d87-82ca-4bed-cdc3-a4c9df97ba24"
      },
      "execution_count": 15,
      "outputs": [
        {
          "output_type": "stream",
          "name": "stdout",
          "text": [
            "Rank of A=: 2\n"
          ]
        }
      ]
    },
    {
      "cell_type": "markdown",
      "source": [
        "**Checking which method is faster**"
      ],
      "metadata": {
        "id": "lBjO2h8o5AjH"
      }
    },
    {
      "cell_type": "code",
      "source": [
        "import time\n",
        "%timeit U,S,VT=svd(A)"
      ],
      "metadata": {
        "colab": {
          "base_uri": "https://localhost:8080/"
        },
        "id": "NQrr4gYY0WGZ",
        "outputId": "00a47466-acee-4bce-b64b-c09fe92d2c92"
      },
      "execution_count": 17,
      "outputs": [
        {
          "output_type": "stream",
          "name": "stdout",
          "text": [
            "15 µs ± 5.53 µs per loop (mean ± std. dev. of 7 runs, 10000 loops each)\n"
          ]
        }
      ]
    },
    {
      "cell_type": "code",
      "source": [
        "%timeit Q,R=qr(A)"
      ],
      "metadata": {
        "colab": {
          "base_uri": "https://localhost:8080/"
        },
        "id": "9g7xYucK0m1Q",
        "outputId": "1756f030-d731-4684-81dc-9a8a8e852bcf"
      },
      "execution_count": 19,
      "outputs": [
        {
          "output_type": "stream",
          "name": "stdout",
          "text": [
            "19.8 µs ± 2.45 µs per loop (mean ± std. dev. of 7 runs, 100000 loops each)\n"
          ]
        }
      ]
    },
    {
      "cell_type": "markdown",
      "source": [
        "*Since a smaller execution time is faster, svd is faster than qr in terms of mean execution time.*"
      ],
      "metadata": {
        "id": "cf7bUbw31wzR"
      }
    },
    {
      "cell_type": "code",
      "source": [],
      "metadata": {
        "id": "IsXAVFY30z-P"
      },
      "execution_count": null,
      "outputs": []
    }
  ]
}