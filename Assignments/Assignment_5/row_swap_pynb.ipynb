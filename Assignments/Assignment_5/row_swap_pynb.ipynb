{
  "nbformat": 4,
  "nbformat_minor": 0,
  "metadata": {
    "colab": {
      "provenance": [],
      "authorship_tag": "ABX9TyNMtlxKo1H2Q7ySiu4IGbyY",
      "include_colab_link": true
    },
    "kernelspec": {
      "name": "python3",
      "display_name": "Python 3"
    },
    "language_info": {
      "name": "python"
    }
  },
  "cells": [
    {
      "cell_type": "markdown",
      "metadata": {
        "id": "view-in-github",
        "colab_type": "text"
      },
      "source": [
        "<a href=\"https://colab.research.google.com/github/mhaletoki/MA22C025_2023_PL/blob/main/Assignments/Assignment_5/row_swap_pynb.ipynb\" target=\"_parent\"><img src=\"https://colab.research.google.com/assets/colab-badge.svg\" alt=\"Open In Colab\"/></a>"
      ]
    },
    {
      "cell_type": "code",
      "source": [
        "import numpy as np"
      ],
      "metadata": {
        "id": "GzWYzUDcvQSa"
      },
      "execution_count": null,
      "outputs": []
    },
    {
      "cell_type": "code",
      "execution_count": null,
      "metadata": {
        "id": "iHa_N6pmuYYb"
      },
      "outputs": [],
      "source": [
        "def swaprow(i, j, A):\n",
        "  tmp = A[i, :]\n",
        "  A[i, :] = A[j, :]\n",
        "  A[j, :] = tmp"
      ]
    },
    {
      "cell_type": "code",
      "source": [
        "A = np.array([\n",
        "    [1,0,0],\n",
        "    [0,1,0],\n",
        "    [0,0,1]\n",
        "])"
      ],
      "metadata": {
        "id": "Fe9Dmm5KovhY"
      },
      "execution_count": null,
      "outputs": []
    },
    {
      "cell_type": "code",
      "source": [
        "print(\"Original Matrix:\")\n",
        "print(A)"
      ],
      "metadata": {
        "colab": {
          "base_uri": "https://localhost:8080/"
        },
        "id": "Hz1Em4KhrGDl",
        "outputId": "e25b378b-1543-406a-d3e1-f87950aec2b9"
      },
      "execution_count": null,
      "outputs": [
        {
          "output_type": "stream",
          "name": "stdout",
          "text": [
            "Original Matrix:\n",
            "[[1 0 0]\n",
            " [0 1 0]\n",
            " [0 0 1]]\n"
          ]
        }
      ]
    },
    {
      "cell_type": "code",
      "source": [
        "swaprow(0, 2, A)\n",
        "\n",
        "print(\"Matrix after swapping rows:\")\n",
        "print(A)"
      ],
      "metadata": {
        "colab": {
          "base_uri": "https://localhost:8080/"
        },
        "id": "lGzgPq8qrMCZ",
        "outputId": "569514d4-babd-4ecf-92b9-acf8dd838146"
      },
      "execution_count": null,
      "outputs": [
        {
          "output_type": "stream",
          "name": "stdout",
          "text": [
            "Matrix after swapping rows:\n",
            "[[0 0 1]\n",
            " [0 1 0]\n",
            " [0 0 1]]\n"
          ]
        }
      ]
    },
    {
      "cell_type": "code",
      "source": [
        "# the above code only copies the two compared rows so we construct another function to solve this problem"
      ],
      "metadata": {
        "id": "WcV6QtBXsXIe"
      },
      "execution_count": null,
      "outputs": []
    },
    {
      "cell_type": "code",
      "source": [
        "def swap_rows(i, j, A):\n",
        "    temp_2 = A[i, :].copy() #copy() is for modifying numpy array without altering the original data\n",
        "    A[i, :] = A[j, :]\n",
        "    A[j, :] = temp_2\n",
        "    return A"
      ],
      "metadata": {
        "id": "YB6ZuACG5INu"
      },
      "execution_count": null,
      "outputs": []
    },
    {
      "cell_type": "code",
      "source": [
        "A = np.array([\n",
        "    [1,0,0],\n",
        "    [0,1,0],\n",
        "    [0,0,1]\n",
        "])\n",
        "print(A)"
      ],
      "metadata": {
        "colab": {
          "base_uri": "https://localhost:8080/"
        },
        "id": "B-ugGwDp5dCg",
        "outputId": "2d24906e-00ff-4915-ca18-70d351a88f66"
      },
      "execution_count": null,
      "outputs": [
        {
          "output_type": "stream",
          "name": "stdout",
          "text": [
            "[[1 0 0]\n",
            " [0 1 0]\n",
            " [0 0 1]]\n"
          ]
        }
      ]
    },
    {
      "cell_type": "code",
      "source": [
        "swap_rows(0,2,A)\n",
        "print('The matrix after swapping rows becomes')\n",
        "print(A)"
      ],
      "metadata": {
        "colab": {
          "base_uri": "https://localhost:8080/"
        },
        "id": "MgUypkq54vfY",
        "outputId": "ebbcc4e1-a109-4cee-bdc9-595f832b8890"
      },
      "execution_count": null,
      "outputs": [
        {
          "output_type": "stream",
          "name": "stdout",
          "text": [
            "The matrix after swapping rows becomes\n",
            "[[0 0 1]\n",
            " [0 1 0]\n",
            " [1 0 0]]\n"
          ]
        }
      ]
    },
    {
      "cell_type": "code",
      "source": [],
      "metadata": {
        "id": "DVMSaD7a43qi"
      },
      "execution_count": null,
      "outputs": []
    }
  ]
}