{
  "nbformat": 4,
  "nbformat_minor": 0,
  "metadata": {
    "colab": {
      "provenance": [],
      "authorship_tag": "ABX9TyOB3a9GoSDo3VnuyDVZmATm",
      "include_colab_link": true
    },
    "kernelspec": {
      "name": "python3",
      "display_name": "Python 3"
    },
    "language_info": {
      "name": "python"
    }
  },
  "cells": [
    {
      "cell_type": "markdown",
      "metadata": {
        "id": "view-in-github",
        "colab_type": "text"
      },
      "source": [
        "<a href=\"https://colab.research.google.com/github/mhaletoki/MA22C025_2023_PL/blob/main/Assignments/Assignment_11/Insurance_company.ipynb\" target=\"_parent\"><img src=\"https://colab.research.google.com/assets/colab-badge.svg\" alt=\"Open In Colab\"/></a>"
      ]
    },
    {
      "cell_type": "code",
      "source": [
        "from random import uniform\n",
        "import numpy as np"
      ],
      "metadata": {
        "id": "yPIM41tXQiMF"
      },
      "execution_count": 1,
      "outputs": []
    },
    {
      "cell_type": "code",
      "source": [
        "def prob_insurance_ruin(init=1000, p=0.46, win=100):\n",
        "    P = np.zeros(init+1)  # mark win or lose here for each gamble i\n",
        "    P[0]=1\n",
        "    for i in range(1,init+1):\n",
        "      P[i] = (1-p) * P[min(i + win, init)] + p * P[max(i - 2*win, 0)]\n",
        "    return P[init]\n",
        ""
      ],
      "metadata": {
        "id": "IbObMEdAQiu_"
      },
      "execution_count": 8,
      "outputs": []
    },
    {
      "cell_type": "code",
      "source": [
        "prob_insurance_ruin()\n",
        ""
      ],
      "metadata": {
        "colab": {
          "base_uri": "https://localhost:8080/"
        },
        "id": "WHny3m7FQmSD",
        "outputId": "6021c4fb-ce80-4b6e-ac05-22d28fe74da1"
      },
      "execution_count": 9,
      "outputs": [
        {
          "output_type": "execute_result",
          "data": {
            "text/plain": [
              "0.020596297600000004"
            ]
          },
          "metadata": {},
          "execution_count": 9
        }
      ]
    },
    {
      "cell_type": "code",
      "source": [
        "print(f\"Probability of ruin: {prob_insurance_ruin():.5f}\")"
      ],
      "metadata": {
        "colab": {
          "base_uri": "https://localhost:8080/"
        },
        "id": "Zizf1XftQ5ZB",
        "outputId": "3e68ebb0-dc4a-4552-d548-d8d3908d0bc2"
      },
      "execution_count": 10,
      "outputs": [
        {
          "output_type": "stream",
          "name": "stdout",
          "text": [
            "Probability of ruin: 0.02060\n"
          ]
        }
      ]
    },
    {
      "cell_type": "code",
      "source": [
        "prob_insurance_ruin(init=1590)"
      ],
      "metadata": {
        "colab": {
          "base_uri": "https://localhost:8080/"
        },
        "id": "coE6Gwx-Q-tZ",
        "outputId": "d33a1c69-fb91-4ddb-b9ec-b34044a543f9"
      },
      "execution_count": 11,
      "outputs": [
        {
          "output_type": "execute_result",
          "data": {
            "text/plain": [
              "0.0020047612231936006"
            ]
          },
          "metadata": {},
          "execution_count": 11
        }
      ]
    },
    {
      "cell_type": "code",
      "source": [
        "i=1590\n",
        "while prob_insurance_ruin(init=i)>0.001:\n",
        "  i=i+1\n",
        "print(\"Minimum capital required for making probablity of ruin <0.1%=\",i)"
      ],
      "metadata": {
        "colab": {
          "base_uri": "https://localhost:8080/"
        },
        "id": "SU3TgPXuRCKU",
        "outputId": "dd0eeb50-8500-4708-e997-9bba61af908c"
      },
      "execution_count": 12,
      "outputs": [
        {
          "output_type": "stream",
          "name": "stdout",
          "text": [
            "Minimum capital required for making probablity of ruin <0.1%= 1601\n"
          ]
        }
      ]
    },
    {
      "cell_type": "code",
      "source": [
        "prob_insurance_ruin(1600)\n"
      ],
      "metadata": {
        "colab": {
          "base_uri": "https://localhost:8080/"
        },
        "id": "JoblvL42RIvQ",
        "outputId": "f9f78b81-c59e-4789-ccbe-f204b94614e1"
      },
      "execution_count": 13,
      "outputs": [
        {
          "output_type": "execute_result",
          "data": {
            "text/plain": [
              "0.0020047612231936006"
            ]
          },
          "metadata": {},
          "execution_count": 13
        }
      ]
    },
    {
      "cell_type": "code",
      "source": [],
      "metadata": {
        "id": "wUJ4IR80RjkN"
      },
      "execution_count": null,
      "outputs": []
    }
  ]
}