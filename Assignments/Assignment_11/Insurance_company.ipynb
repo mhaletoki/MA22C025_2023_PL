{
  "nbformat": 4,
  "nbformat_minor": 0,
  "metadata": {
    "colab": {
      "provenance": [],
      "authorship_tag": "ABX9TyMkyQaglZyGdQJXcfB93vpi",
      "include_colab_link": true
    },
    "kernelspec": {
      "name": "python3",
      "display_name": "Python 3"
    },
    "language_info": {
      "name": "python"
    }
  },
  "cells": [
    {
      "cell_type": "markdown",
      "metadata": {
        "id": "view-in-github",
        "colab_type": "text"
      },
      "source": [
        "<a href=\"https://colab.research.google.com/github/mhaletoki/MA22C025_2023_PL/blob/main/Assignments/Assignment_11/Insurance_company.ipynb\" target=\"_parent\"><img src=\"https://colab.research.google.com/assets/colab-badge.svg\" alt=\"Open In Colab\"/></a>"
      ]
    },
    {
      "cell_type": "code",
      "source": [
        "def calculate_bankruptcy_probability(starting_balance, daily_profit, loss_probability):\n",
        "    P = [0.0] * (starting_balance + 1)\n",
        "\n",
        "    # Base case: P(0) = 1 (company is already bankrupt when the balance is 0).\n",
        "    P[0] = 1.0\n",
        "    for balance in range(1, starting_balance + 1):\n",
        "        p_earn = 1 - loss_probability\n",
        "        p_loss = loss_probability\n",
        "\n",
        "        # Calculate P(balance) using recursive relationship.\n",
        "        P[balance] = p_earn * P[min(balance + daily_profit, starting_balance)] + p_loss * P[max(balance - 2 * daily_profit, 0)]\n",
        "\n",
        "    return P[starting_balance]"
      ],
      "metadata": {
        "id": "fn5TyUYHM1sk"
      },
      "execution_count": 20,
      "outputs": []
    },
    {
      "cell_type": "code",
      "source": [
        "starting_balance = 1000\n",
        "daily_profit = 100\n",
        "loss_probability = 0.46"
      ],
      "metadata": {
        "id": "ockEExbNM69P"
      },
      "execution_count": 10,
      "outputs": []
    },
    {
      "cell_type": "code",
      "source": [
        "bankruptcy_probability = calculate_bankruptcy_probability(starting_balance, daily_profit, loss_probability)\n"
      ],
      "metadata": {
        "id": "cvD2jtkmN3QU"
      },
      "execution_count": 11,
      "outputs": []
    },
    {
      "cell_type": "code",
      "source": [
        "bankruptcy_probability"
      ],
      "metadata": {
        "colab": {
          "base_uri": "https://localhost:8080/"
        },
        "id": "b4IdJRLQOAg9",
        "outputId": "ea0ea55e-6ded-4342-8b81-f86663d84eb8"
      },
      "execution_count": 12,
      "outputs": [
        {
          "output_type": "execute_result",
          "data": {
            "text/plain": [
              "0.020596297600000004"
            ]
          },
          "metadata": {},
          "execution_count": 12
        }
      ]
    },
    {
      "cell_type": "code",
      "source": [
        "def find_minimum_balance(target_probability, daily_profit, loss_probability):\n",
        "    # Define a range for possible balance values.\n",
        "    low = 0\n",
        "    high = 10000\n",
        "\n",
        "    while low < high:\n",
        "        # Calculate the midpoint between low and high.\n",
        "        mid = (low + high) // 2\n",
        "\n",
        "        # Calculate the probability of bankruptcy for the current balance.\n",
        "        bankruptcy_probability = calculate_bankruptcy_probability(mid, daily_profit, loss_probability)\n",
        "\n",
        "        if bankruptcy_probability < target_probability:\n",
        "            # If the probability of bankruptcy is below the target, move the lower bound up.\n",
        "            low = mid + 1\n",
        "        else:\n",
        "            # If the probability of bankruptcy is at or above the target, move the upper bound down.\n",
        "            high = mid\n",
        "\n",
        "    return low\n"
      ],
      "metadata": {
        "id": "VayIYxnKOCbV"
      },
      "execution_count": 21,
      "outputs": []
    },
    {
      "cell_type": "code",
      "source": [
        "target_probability = 0.001\n",
        "daily_profit = 100\n",
        "loss_probability = 0.46\n"
      ],
      "metadata": {
        "id": "kU4J6KJuOKzm"
      },
      "execution_count": 17,
      "outputs": []
    },
    {
      "cell_type": "code",
      "source": [
        "# Find the minimum balance to meet the target probability\n",
        "minimum_balance = find_minimum_balance(target_probability, daily_profit, loss_probability)"
      ],
      "metadata": {
        "id": "6BEzetzSOUQh"
      },
      "execution_count": 18,
      "outputs": []
    },
    {
      "cell_type": "code",
      "source": [
        "minimum_balance"
      ],
      "metadata": {
        "colab": {
          "base_uri": "https://localhost:8080/"
        },
        "id": "F8FpoQ9lOVe5",
        "outputId": "b5b1f85b-b018-4bde-cf2a-e9f88c15a16f"
      },
      "execution_count": 19,
      "outputs": [
        {
          "output_type": "execute_result",
          "data": {
            "text/plain": [
              "10000"
            ]
          },
          "metadata": {},
          "execution_count": 19
        }
      ]
    }
  ]
}