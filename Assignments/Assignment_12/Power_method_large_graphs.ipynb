{
  "nbformat": 4,
  "nbformat_minor": 0,
  "metadata": {
    "colab": {
      "provenance": [],
      "authorship_tag": "ABX9TyOX7QWWJhBG4ClWpnKfRpJw",
      "include_colab_link": true
    },
    "kernelspec": {
      "name": "python3",
      "display_name": "Python 3"
    },
    "language_info": {
      "name": "python"
    }
  },
  "cells": [
    {
      "cell_type": "markdown",
      "metadata": {
        "id": "view-in-github",
        "colab_type": "text"
      },
      "source": [
        "<a href=\"https://colab.research.google.com/github/mhaletoki/MA22C025_2023_PL/blob/main/Assignments/Assignment_12/Power_method_large_graphs.ipynb\" target=\"_parent\"><img src=\"https://colab.research.google.com/assets/colab-badge.svg\" alt=\"Open In Colab\"/></a>"
      ]
    },
    {
      "cell_type": "code",
      "execution_count": 3,
      "metadata": {
        "id": "-eBfljQuXRNt"
      },
      "outputs": [],
      "source": [
        "import numpy as np"
      ]
    },
    {
      "cell_type": "code",
      "source": [
        "p = 0.4\n",
        "N = 10\n",
        "\n",
        "# Create the transition matrix\n",
        "P = np.zeros((N + 1, N + 1))\n",
        "\n",
        "for i in range(1, N):\n",
        "    P[i, i - 1] = p\n",
        "    P[i, i + 1] = 1 - p\n",
        "\n",
        "P[0, 0] = 1.0\n",
        "P[N, N] = 1.0"
      ],
      "metadata": {
        "id": "cbzsivs9au3p"
      },
      "execution_count": 15,
      "outputs": []
    },
    {
      "cell_type": "code",
      "source": [
        "eigenvalues, eigenvectors = np.linalg.eig(P.T)  # Transpose P for right eigenvectors\n",
        "\n",
        "# Find the eigenvector corresponding to eigenvalue 1\n",
        "stationary_distribution = np.real(eigenvectors[:, np.argmax(np.abs(eigenvalues))])\n",
        "\n",
        "# Normalize the stationary distribution so that it sums to 1\n",
        "stationary_distribution /= np.sum(stationary_distribution)"
      ],
      "metadata": {
        "id": "rNq9Hia0cbVg"
      },
      "execution_count": 16,
      "outputs": []
    },
    {
      "cell_type": "code",
      "source": [
        "stationary_distribution"
      ],
      "metadata": {
        "colab": {
          "base_uri": "https://localhost:8080/"
        },
        "id": "yHr9MjyGhJt7",
        "outputId": "7b189d38-1d2e-4a01-fda7-d97807401e5a"
      },
      "execution_count": 17,
      "outputs": [
        {
          "output_type": "execute_result",
          "data": {
            "text/plain": [
              "array([1., 0., 0., 0., 0., 0., 0., 0., 0., 0., 0.])"
            ]
          },
          "metadata": {},
          "execution_count": 17
        }
      ]
    },
    {
      "cell_type": "code",
      "source": [
        "def create_transition_matrix(N, p, r):\n",
        "    P = np.zeros((N + 1, N + 1))\n",
        "    for i in range(N):\n",
        "        P[i, i + 1] = p  # Probability of winning a round\n",
        "        P[i, i - 1] = 1 - p  # Probability of losing a round\n",
        "\n",
        "    P[0, 0] = 1  # Staying at 0 when you're already at 0\n",
        "    P[N, N] = 1  # Staying at N when you're already at N\n",
        "\n",
        "    # Add restart probability\n",
        "    P = (1 - r) * P + r / (N + 1)\n",
        "    return P"
      ],
      "metadata": {
        "id": "FkioOpW6haPk"
      },
      "execution_count": 18,
      "outputs": []
    },
    {
      "cell_type": "code",
      "source": [
        "r_values = [0.1, 0.01, 1e-3, 1e-4]\n",
        "\n",
        "for r in r_values:\n",
        "    # Create the transition matrix with restart probability\n",
        "    P = create_transition_matrix(N, p, r)\n",
        "\n",
        "    # Use the power method to compute PageRank\n",
        "    num_iterations = 1000\n",
        "    initial_pagerank = np.ones(N + 1) / (N + 1)  # Start with a uniform distribution\n",
        "\n",
        "    pagerank = initial_pagerank\n",
        "    for _ in range(num_iterations):\n",
        "        pagerank = np.dot(P.T, pagerank)\n",
        "\n",
        "    print(f\"PageRank with r = {r}:\")\n",
        "    print(pagerank)"
      ],
      "metadata": {
        "colab": {
          "base_uri": "https://localhost:8080/"
        },
        "id": "EI5UoXOei28n",
        "outputId": "e30ae1e3-4eb8-4823-88d2-e9d531f3e606"
      },
      "execution_count": 20,
      "outputs": [
        {
          "output_type": "stream",
          "name": "stdout",
          "text": [
            "PageRank with r = 0.1:\n",
            "[4.39778657e+74 2.00801960e+74 1.14082036e+74 8.23438956e+73\n",
            " 7.02336840e+73 6.47119797e+73 6.06203789e+73 5.52871551e+73\n",
            " 4.62650623e+73 2.99436315e+73 9.22449818e+74]\n",
            "PageRank with r = 0.01:\n",
            "[6.46777225e+90 2.62325926e+90 1.09940320e+90 4.94756734e+89\n",
            " 2.53776013e+89 1.55944577e+89 1.13235188e+89 8.96757040e+88\n",
            " 6.91752897e+88 4.22671927e+88 1.58665152e+91]\n",
            "PageRank with r = 0.001:\n",
            "[2.95829112e+92 1.18496831e+92 4.76280122e+91 1.93028956e+91\n",
            " 7.97646312e+90 3.43842296e+90 1.60535642e+90 8.40195669e+89\n",
            " 4.79996446e+89 2.45262857e+89 7.38251179e+92]\n",
            "PageRank with r = 0.0001:\n",
            "[4.33639409e+92 1.73479740e+92 6.94250198e+91 2.78060546e+91\n",
            " 1.11584107e+91 4.49728490e+90 1.82859873e+90 7.53748415e+89\n",
            " 3.11387909e+89 1.13690681e+89 1.08403549e+93]\n"
          ]
        }
      ]
    },
    {
      "cell_type": "code",
      "source": [
        "def power_iteration(P, x0, max_iters=1000, tol=1e-10):\n",
        "    x = x0\n",
        "    for i in range(max_iters):\n",
        "        new_x = np.dot(P, x)\n",
        "        if np.linalg.norm(new_x - x) < tol:\n",
        "            return new_x\n",
        "        x = new_x\n",
        "    return x\n"
      ],
      "metadata": {
        "id": "o7_hMZDzi6_y"
      },
      "execution_count": 23,
      "outputs": []
    },
    {
      "cell_type": "code",
      "source": [
        "N = 10\n",
        "r_values = [0.1, 0.01, 1e-3, 1e-4]\n",
        "\n",
        "for r in r_values:\n",
        "    # Create the transition matrix with restart probability using the provided function\n",
        "    P = create_transition_matrix(N, 0.5, r)\n",
        "\n",
        "    # Initialize an initial distribution\n",
        "    initial_distribution = np.ones(N + 1) / (N + 1)\n",
        "\n",
        "    # Compute the PageRank using power iteration\n",
        "    pagerank = power_iteration(P.T, initial_distribution)\n",
        "\n",
        "    print(f\"PageRank with restart probability r = {r}:\")\n",
        "    print(pagerank)\n"
      ],
      "metadata": {
        "colab": {
          "base_uri": "https://localhost:8080/"
        },
        "id": "nl9imJaMj_3b",
        "outputId": "03b3c353-2af0-4a11-9a7e-dc8231b0584f"
      },
      "execution_count": 24,
      "outputs": [
        {
          "output_type": "stream",
          "name": "stdout",
          "text": [
            "PageRank with restart probability r = 0.1:\n",
            "[4.81384993e+73 2.60474190e+73 1.59048081e+73 1.12374584e+73\n",
            " 9.06657802e+72 8.00666971e+72 7.38127969e+72 6.79127211e+72\n",
            " 5.86009284e+72 3.99344548e+72 8.90092993e+73]\n",
            "PageRank with restart probability r = 0.01:\n",
            "[4.12949351e+93 2.07990220e+93 1.06256109e+93 5.57454572e+92\n",
            " 3.06396621e+92 1.81058544e+92 1.17373575e+92 8.27890377e+91\n",
            " 5.96269872e+91 3.60481032e+91 8.20976865e+93]\n",
            "PageRank with restart probability r = 0.001:\n",
            "[6.30088571e+95 3.15272055e+95 1.57975929e+95 7.93805477e+94\n",
            " 4.01024877e+94 2.04598737e+94 1.06099721e+94 5.61708771e+93\n",
            " 2.97933201e+93 1.37494983e+93 1.26109488e+96]\n",
            "PageRank with restart probability r = 0.0001:\n",
            "[1.04575264e+96 5.22913066e+95 2.61510362e+95 1.30814976e+95\n",
            " 6.54651149e+94 3.27787974e+94 1.64093385e+94 8.17024297e+93\n",
            " 3.94107398e+93 1.60679080e+93 2.09441910e+96]\n"
          ]
        }
      ]
    },
    {
      "cell_type": "code",
      "source": [
        "N = 1000\n",
        "p = 0.4\n",
        "r = 0.1\n",
        "# Create the transition matrix\n",
        "P = create_transition_matrix(N, p, r)\n",
        "\n",
        "# Compute the stationary distribution using eig\n",
        "eigenvalues, eigenvectors = np.linalg.eig(P.T)\n",
        "stationary_distribution = np.real(eigenvectors[:, np.argmax(np.abs(eigenvalues))])\n",
        "stationary_distribution /= np.sum(stationary_distribution)\n",
        "\n",
        "print(\"PageRank for N = 1000 and r = 0.1:\")\n",
        "print(stationary_distribution)"
      ],
      "metadata": {
        "colab": {
          "base_uri": "https://localhost:8080/"
        },
        "id": "CQsHqFA9ksXP",
        "outputId": "20251cca-3f05-409c-b839-d466581356e0"
      },
      "execution_count": 26,
      "outputs": [
        {
          "output_type": "stream",
          "name": "stdout",
          "text": [
            "PageRank for N = 1000 and r = 0.1:\n",
            "[1.30500936e-01 5.23659967e-02 2.11781301e-02 ... 2.94724296e-04\n",
            " 1.84348912e-04 3.24840181e-01]\n"
          ]
        }
      ]
    },
    {
      "cell_type": "code",
      "source": [
        "from scipy.sparse import coo_matrix\n"
      ],
      "metadata": {
        "id": "a7GbFAmxlPAu"
      },
      "execution_count": 27,
      "outputs": []
    },
    {
      "cell_type": "code",
      "source": [
        "def Large_P(x, aPt, r=0.1, maxn=1000, tol=1e-10):\n",
        "    for n in range(maxn):\n",
        "        # Calculate (Pt)^n * x using the given aPt function\n",
        "        Ptx = aPt(x)\n",
        "\n",
        "        # Calculate the next iteration of x with the restart probability\n",
        "        next_x = (1 - r) * Ptx + r / len(x)\n",
        "\n",
        "        # Check for convergence\n",
        "        if np.linalg.norm(next_x - x) < tol:\n",
        "            return next_x\n",
        "\n",
        "        x = next_x\n",
        "\n",
        "    # Return the result after maxn iterations (may not have converged)\n",
        "    return x"
      ],
      "metadata": {
        "id": "xqkzMMXKpugO"
      },
      "execution_count": 41,
      "outputs": []
    },
    {
      "cell_type": "code",
      "source": [
        "data = []\n",
        "row_indices = []\n",
        "col_indices = []\n",
        "\n",
        "data.extend([1 - r, p])\n",
        "row_indices.extend([0, 0])\n",
        "col_indices.extend([0, 1])"
      ],
      "metadata": {
        "id": "11gVXly7o-Gc"
      },
      "execution_count": 42,
      "outputs": []
    },
    {
      "cell_type": "code",
      "source": [
        "for i in range(1, N):\n",
        "    data.extend([p, 1 - p, 1 - r, r])\n",
        "    row_indices.extend([i, i, i, i])\n",
        "    col_indices.extend([i + 1, i - 1, i, i])\n",
        "\n",
        "data.extend([1 - p, 1 - r])\n",
        "row_indices.extend([N, N])\n",
        "col_indices.extend([N - 1, N])\n",
        "\n",
        "shape = (N + 1, N + 1)\n",
        "\n",
        "P_sparse = coo_matrix((data, (row_indices, col_indices)), shape=shape)\n",
        "\n",
        "# Initial probability distribution (start with a random distribution)\n",
        "initial_distribution = np.random.rand(N + 1)\n",
        "initial_distribution /= np.sum(initial_distribution)"
      ],
      "metadata": {
        "id": "IDcV8zwVpDcY"
      },
      "execution_count": 43,
      "outputs": []
    },
    {
      "cell_type": "code",
      "source": [
        "# Define a function for applying Pt to a vector (sparse matrix multiplication)\n",
        "def apply_Pt(x):\n",
        "    return P_sparse.T.dot(x)\n",
        "# Compute the PageRank using the powerP function\n",
        "pagerank = Large_P(initial_distribution, apply_Pt, r=r)\n",
        "\n",
        "print(\"PageRank for r = 0.1, N = 100000:\")\n",
        "print(pagerank)\n"
      ],
      "metadata": {
        "colab": {
          "base_uri": "https://localhost:8080/"
        },
        "id": "n8-LR6SrpIfw",
        "outputId": "b9dbd2b1-e009-41bf-f5c4-6f47b2cc07a2"
      },
      "execution_count": 44,
      "outputs": [
        {
          "output_type": "stream",
          "name": "stdout",
          "text": [
            "PageRank for r = 0.1, N = 100000:\n",
            "[5.78731814e+251 1.06096289e+252 1.38238264e+252 ... 7.87620787e+245\n",
            " 4.17733666e+245 1.55144625e+245]\n"
          ]
        }
      ]
    }
  ]
}