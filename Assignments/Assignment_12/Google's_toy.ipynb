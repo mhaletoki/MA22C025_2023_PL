{
  "cells": [
    {
      "cell_type": "markdown",
      "metadata": {
        "id": "view-in-github",
        "colab_type": "text"
      },
      "source": [
        "<a href=\"https://colab.research.google.com/github/mhaletoki/MA22C025_2023_PL/blob/main/Assignments/Assignment_12/Google's_toy.ipynb\" target=\"_parent\"><img src=\"https://colab.research.google.com/assets/colab-badge.svg\" alt=\"Open In Colab\"/></a>"
      ]
    },
    {
      "cell_type": "code",
      "execution_count": 1,
      "metadata": {
        "id": "AouL7T5xwJWx"
      },
      "outputs": [],
      "source": [
        "import os\n",
        "import urllib\n",
        "import shutil\n",
        "import numpy as np"
      ]
    },
    {
      "cell_type": "code",
      "execution_count": 2,
      "metadata": {
        "id": "x3tVU6yLxAL_"
      },
      "outputs": [],
      "source": [
        "# The file is located here:\n",
        "url = \"https://snap.stanford.edu/data/web-Google.txt.gz\"\n"
      ]
    },
    {
      "cell_type": "code",
      "execution_count": 4,
      "metadata": {
        "id": "eLT2UQyExHlk"
      },
      "outputs": [],
      "source": [
        "# Download and copy it here using the code below:\n",
        "f= 'web-Google.txt.gz'\n",
        "\n",
        "if not os.path.exists(f):\n",
        "    r = urllib.request.urlopen(url)\n",
        "    with open(f, 'wb') as fo:\n",
        "        shutil.copyfileobj(r, fo)"
      ]
    },
    {
      "cell_type": "code",
      "source": [
        "import gzip"
      ],
      "metadata": {
        "id": "xwjdzn6x06T6"
      },
      "execution_count": 6,
      "outputs": []
    },
    {
      "cell_type": "code",
      "execution_count": 15,
      "metadata": {
        "id": "juUmWH7nyG5A"
      },
      "outputs": [],
      "source": [
        "# Load the graph data from the file\n",
        "def load_Gdata(filename):\n",
        "    graph = {}\n",
        "    with gzip.open(filename, 'rt') as file:\n",
        "        for line in file:\n",
        "            if line.startswith(\"#\"):\n",
        "                continue\n",
        "            else:\n",
        "                parts = line.strip().split()\n",
        "                source, target = int(parts[0]), int(parts[1])\n",
        "                if source not in graph:\n",
        "                    graph[source] = []\n",
        "                graph[source].append(target)\n",
        "    return graph"
      ]
    },
    {
      "cell_type": "code",
      "source": [
        "graph = load_Gdata(f)"
      ],
      "metadata": {
        "id": "jtOASM_g0piT"
      },
      "execution_count": 16,
      "outputs": []
    },
    {
      "cell_type": "code",
      "source": [
        "# Initialize PageRank values for all vertices\n",
        "num_vertices = len(graph)\n",
        "pagerank = np.ones(num_vertices) / num_vertices"
      ],
      "metadata": {
        "id": "2PowJotY1B_Q"
      },
      "execution_count": 9,
      "outputs": []
    },
    {
      "cell_type": "code",
      "source": [
        "# Implement the power iteration method to compute PageRank\n",
        "def power_iteration(graph, damping_factor=0.85, num_iterations=100):\n",
        "    num_vertices = len(graph)\n",
        "    initial_pagerank = np.ones(num_vertices) / num_vertices\n",
        "\n",
        "    for _ in range(num_iterations):\n",
        "        new_pagerank = np.zeros(num_vertices)\n",
        "        for vertex in graph:\n",
        "            num_neighbors = len(graph[vertex])\n",
        "            if num_neighbors == 0:\n",
        "                new_pagerank += damping_factor * initial_pagerank[vertex] / num_vertices\n",
        "            else:\n",
        "                for neighbor in graph[vertex]:\n",
        "                    new_pagerank[neighbor] += damping_factor * initial_pagerank[vertex] / num_neighbors\n",
        "        new_pagerank += (1 - damping_factor) / num_vertices\n",
        "        initial_pagerank = new_pagerank\n",
        "\n",
        "    return initial_pagerank\n"
      ],
      "metadata": {
        "id": "SuuwqqC01JRs"
      },
      "execution_count": 19,
      "outputs": []
    },
    {
      "cell_type": "code",
      "source": [
        "# Initialize PageRank values for all vertices\n",
        "num_vertices = len(graph)\n",
        "pagerank = np.ones(num_vertices) / num_vertices"
      ],
      "metadata": {
        "id": "7TEG-PTv1NjH"
      },
      "execution_count": 20,
      "outputs": []
    },
    {
      "cell_type": "code",
      "source": [
        "pagerank"
      ],
      "metadata": {
        "colab": {
          "base_uri": "https://localhost:8080/"
        },
        "id": "vHvPBcbu1ROq",
        "outputId": "7a9bdf6b-609e-4134-c917-55d14382885f"
      },
      "execution_count": 21,
      "outputs": [
        {
          "output_type": "execute_result",
          "data": {
            "text/plain": [
              "array([1.35234917e-06, 1.35234917e-06, 1.35234917e-06, ...,\n",
              "       1.35234917e-06, 1.35234917e-06, 1.35234917e-06])"
            ]
          },
          "metadata": {},
          "execution_count": 21
        }
      ]
    }
  ],
  "metadata": {
    "colab": {
      "provenance": [],
      "authorship_tag": "ABX9TyPGKQZbozWa9erCuc5L0z3s",
      "include_colab_link": true
    },
    "kernelspec": {
      "display_name": "Python 3",
      "name": "python3"
    },
    "language_info": {
      "name": "python"
    }
  },
  "nbformat": 4,
  "nbformat_minor": 0
}